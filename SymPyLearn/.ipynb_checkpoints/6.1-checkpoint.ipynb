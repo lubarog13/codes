{
 "cells": [
  {
   "cell_type": "code",
   "execution_count": 2,
   "id": "6e5ace6d-8faf-4d2b-92ea-770ee48f02d9",
   "metadata": {},
   "outputs": [],
   "source": [
    "from sympy import *\n",
    "from sympy.plotting import plot3d"
   ]
  },
  {
   "cell_type": "code",
   "execution_count": 3,
   "id": "176aeb49-d176-4af7-b0c2-d5ca40946213",
   "metadata": {},
   "outputs": [],
   "source": [
    "init_printing(use_unicode=False, wrap_line=False, no_global=True)\n",
    "a2,a1, a0=symbols('a2, a1, a0')"
   ]
  },
  {
   "cell_type": "code",
   "execution_count": 4,
   "id": "c5452775-3433-4559-acf3-4aef6291e3ad",
   "metadata": {},
   "outputs": [
    {
     "data": {
      "image/png": "[encoded data removed]",
      "text/latex": [
       "$\\displaystyle 0.333333333333333 \\left(a_{0} + 15 a_{1} - 5 a_{2} - 20\\right)^{2} + 0.333333333333333 \\left(a_{0} + 30 a_{1} + 10 a_{2} - 7\\right)^{2} + 0.333333333333333 \\left(a_{0} + 31 a_{1} + 16 a_{2} + 4\\right)^{2}$"
      ],
      "text/plain": [
       "                                          2                                             2                                             2\n",
       "0.333333333333333*(a0 + 15*a1 - 5*a2 - 20)  + 0.333333333333333*(a0 + 30*a1 + 10*a2 - 7)  + 0.333333333333333*(a0 + 31*a1 + 16*a2 + 4) "
      ]
     },
     "execution_count": 4,
     "metadata": {},
     "output_type": "execute_result"
    }
   ],
   "source": [
    "MSE = 1/3 * (((10*a2 + 30*a1 + a0) - 7)**2 +((-5*a2 + 15*a1 + a0) - 20)**2 + ((16*a2 + 31*a1 + a0) + 4)**2)\n",
    "MSE"
   ]
  },
  {
   "cell_type": "code",
   "execution_count": 5,
   "id": "99db5b68-4493-4112-84ce-d2b3fbdd6d35",
   "metadata": {},
   "outputs": [
    {
     "data": {
      "image/png": "[encoded data removed]",
      "text/latex": [
       "$\\displaystyle 12.0$"
      ],
      "text/plain": [
       "12.0000000000000"
      ]
     },
     "execution_count": 5,
     "metadata": {},
     "output_type": "execute_result"
    }
   ],
   "source": [
    "MSE.subs({a2:-2 , a1: 1, a0: -7})"
   ]
  },
  {
   "cell_type": "code",
   "execution_count": 6,
   "id": "c91cbda6-0026-4d88-8fe1-f5cf1cf33fbe",
   "metadata": {},
   "outputs": [
    {
     "data": {
      "image/png": "[encoded data removed]",
      "text/latex": [
       "$\\displaystyle 84883.6666666667$"
      ],
      "text/plain": [
       "84883.6666666667"
      ]
     },
     "execution_count": 6,
     "metadata": {},
     "output_type": "execute_result"
    }
   ],
   "source": [
    "MSE.subs({a2:20 , a1: 3, a0: -4})"
   ]
  },
  {
   "cell_type": "raw",
   "id": "1a0f4114-4e9c-4661-b071-311505a7063d",
   "metadata": {},
   "source": [
    "первая имеет меньшую ошибку"
   ]
  },
  {
   "cell_type": "code",
   "execution_count": 7,
   "id": "332c73cc-f21e-4efe-a262-ae54e11df6fd",
   "metadata": {},
   "outputs": [
    {
     "data": {
      "image/png": "[encoded data removed]",
      "text/latex": [
       "$\\displaystyle 0.333333333333333 \\left(a_{0} + 17 a_{1} + 16 a_{2} - 13\\right)^{2} + 0.333333333333333 \\left(a_{0} + 28 a_{1} - 3 a_{2} - 42\\right)^{2} + 0.333333333333333 \\left(a_{0} + 85 a_{1} + 14 a_{2} + 39\\right)^{2}$"
      ],
      "text/plain": [
       "                                           2                                             2                                              2\n",
       "0.333333333333333*(a0 + 17*a1 + 16*a2 - 13)  + 0.333333333333333*(a0 + 28*a1 - 3*a2 - 42)  + 0.333333333333333*(a0 + 85*a1 + 14*a2 + 39) "
      ]
     },
     "execution_count": 7,
     "metadata": {},
     "output_type": "execute_result"
    }
   ],
   "source": [
    "MSE = 1/3 * (((16*a2 + 17*a1 + a0) - 13)**2 +((-3*a2 + 28*a1 + a0) - 42)**2 + ((14*a2 + 85*a1 + a0) + 39)**2)\n",
    "MSE"
   ]
  },
  {
   "cell_type": "code",
   "execution_count": 8,
   "id": "8aea840e-283a-43e2-8c75-7d686d3317ac",
   "metadata": {},
   "outputs": [
    {
     "data": {
      "image/png": "[encoded data removed]",
      "text/latex": [
       "$\\displaystyle 72.0$"
      ],
      "text/plain": [
       "72.0000000000000"
      ]
     },
     "execution_count": 8,
     "metadata": {},
     "output_type": "execute_result"
    }
   ],
   "source": [
    "MSE.subs({a2:-2 , a1: -1, a0: 60})"
   ]
  },
  {
   "cell_type": "code",
   "execution_count": 9,
   "id": "e134f03a-e196-4f91-9f01-de6c45a77c47",
   "metadata": {},
   "outputs": [
    {
     "data": {
      "image/png": "[encoded data removed]",
      "text/latex": [
       "$\\displaystyle 841323.666666667$"
      ],
      "text/plain": [
       "841323.666666667"
      ]
     },
     "execution_count": 9,
     "metadata": {},
     "output_type": "execute_result"
    }
   ],
   "source": [
    "MSE.subs({a2:2 , a1: 17, a0: -9})"
   ]
  },
  {
   "cell_type": "raw",
   "id": "c6643eb3-644b-40d1-a1b2-0dbe610d2828",
   "metadata": {},
   "source": [
    "первая имеет меньшую ошибку"
   ]
  },
  {
   "cell_type": "code",
   "execution_count": 11,
   "id": "2ea7400d-3e6c-4ff4-b653-ec88ce185c21",
   "metadata": {},
   "outputs": [
    {
     "data": {
      "image/png": "[encoded data removed]",
      "text/latex": [
       "$\\displaystyle 0.333333333333333 \\left(a_{0} + 39 a_{1} + 7 a_{2} + 60\\right)^{2} + 0.333333333333333 \\left(a_{0} + 48 a_{1} + 12 a_{2} - 17\\right)^{2} + 0.333333333333333 \\left(a_{0} + 55 a_{1} + 3 a_{2} - 83\\right)^{2}$"
      ],
      "text/plain": [
       "                                          2                                              2                                             2\n",
       "0.333333333333333*(a0 + 39*a1 + 7*a2 + 60)  + 0.333333333333333*(a0 + 48*a1 + 12*a2 - 17)  + 0.333333333333333*(a0 + 55*a1 + 3*a2 - 83) "
      ]
     },
     "execution_count": 11,
     "metadata": {},
     "output_type": "execute_result"
    }
   ],
   "source": [
    "MSE = 1/3 * (((7*a2 + 39*a1 + a0) + 60)**2 +((12*a2 + 48*a1 + a0) - 17)**2 + ((3*a2 + 55*a1 + a0) - 83)**2)\n",
    "MSE"
   ]
  },
  {
   "cell_type": "code",
   "execution_count": 12,
   "id": "98ecc022-44e9-4b47-83ab-690d5862b94e",
   "metadata": {},
   "outputs": [
    {
     "data": {
      "image/png": "[encoded data removed]",
      "text/latex": [
       "$\\displaystyle 77292.3333333333$"
      ],
      "text/plain": [
       "77292.3333333333"
      ]
     },
     "execution_count": 12,
     "metadata": {},
     "output_type": "execute_result"
    }
   ],
   "source": [
    "MSE.subs({a2:-4 , a1: 7, a0: -11})"
   ]
  },
  {
   "cell_type": "code",
   "execution_count": 13,
   "id": "63f7f770-c296-4b89-9855-00cc0b85f64d",
   "metadata": {},
   "outputs": [
    {
     "data": {
      "image/png": "[encoded data removed]",
      "text/latex": [
       "$\\displaystyle 82.5$"
      ],
      "text/plain": [
       "82.5000000000000"
      ]
     },
     "execution_count": 13,
     "metadata": {},
     "output_type": "execute_result"
    }
   ],
   "source": [
    "MSE.subs({a2:-0.5, a1: 9, a0: -400})"
   ]
  },
  {
   "cell_type": "raw",
   "id": "0dcdf57a-c705-43b8-8b0e-2d16d2f05c67",
   "metadata": {},
   "source": [
    "вторая имеет меньшую ошибку"
   ]
  }
 ],
 "metadata": {
  "kernelspec": {
   "display_name": "Python 3 (ipykernel)",
   "language": "python",
   "name": "python3"
  },
  "language_info": {
   "codemirror_mode": {
    "name": "ipython",
    "version": 3
   },
   "file_extension": ".py",
   "mimetype": "text/x-python",
   "name": "python",
   "nbconvert_exporter": "python",
   "pygments_lexer": "ipython3",
   "version": "3.12.2"
  }
 },
 "nbformat": 4,
 "nbformat_minor": 5
}
