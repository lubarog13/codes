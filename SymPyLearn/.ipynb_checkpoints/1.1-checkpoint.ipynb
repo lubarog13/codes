{
 "cells": [
  {
   "cell_type": "markdown",
   "metadata": {
    "id": "SHUWJIC_kPpn"
   },
   "source": [
    "## Понятие функции. Построение графиков функций с помощью SymPy. \n",
    "## Практика\n",
    "\n",
    "\n",
    "**(1)** Импортируйте библиотеку и модуль `plot`, вызовите команду для красивой отрисовки формул. Затем, создав переменную, создайте функцию $f(x)=-3x+5$ и постройте ее график. Найдите значения этой функции для значений $x=\\frac{5}{3}$ и $x=2$.\n",
    " <br>\n",
    " <br>\n",
    "Проделайте тоже самое для следующих функций и их точек, с некоторыми из них мы встретимся в будущем и разберем их более подробно, но уже сейчас можно посмотреть на их графики: <br>\n",
    "**(2)** $f(x)=3x^2+3x-6$. Найдите значения функции при $x=0.5$ и $x=7$. <br>\n",
    "**(3)** $f(x)=2x^4+x^3-6x^2+7x+1$. Найдите значения функции при $x=3$ и $x=–5$. <br>\n",
    "**(4)** $f(x)=(x^2)^x$. Найдите значения функции при $x=0$, $х=10$. <br>\n"
   ]
  },
  {
   "cell_type": "code",
   "execution_count": 2,
   "metadata": {
    "id": "JayIlulPkXgb"
   },
   "outputs": [],
   "source": [
    "from sympy import *\n",
    "from sympy.plotting import plot"
   ]
  },
  {
   "cell_type": "code",
   "execution_count": 3,
   "metadata": {},
   "outputs": [
    {
     "data": {
      "text/latex": [
       "$\\displaystyle 5 - 3 x$"
      ],
      "text/plain": [
       "5 - 3*x"
      ]
     },
     "execution_count": 3,
     "metadata": {},
     "output_type": "execute_result"
    }
   ],
   "source": [
    "init_printing(use_unicode=False, wrap_line=False, no_global=True)\n",
    "x=Symbol('x')\n",
    "f=-3*x+5\n",
    "f"
   ]
  },
  {
   "cell_type": "code",
   "execution_count": 4,
   "metadata": {},
   "outputs": [
    {
     "name": "stdout",
     "output_type": "stream",
     "text": [
      "     35 |..                                                     \n",
      "        |  ...                                                  \n",
      "        |     ..                                                \n",
      "        |       ...                                             \n",
      "        |          ...                                          \n",
      "        |             ..                                        \n",
      "        |               ...                                     \n",
      "        |                  ...                                  \n",
      "        |                     ..                                \n",
      "        |                       ...                             \n",
      "      5 |--------------------------...--------------------------\n",
      "        |                             ...                       \n",
      "        |                                ..                     \n",
      "        |                                  ...                  \n",
      "        |                                     ...               \n",
      "        |                                        ..             \n",
      "        |                                          ...          \n",
      "        |                                             ...       \n",
      "        |                                                ..     \n",
      "        |                                                  ...  \n",
      "    -25 |_______________________________________________________\n",
      "         -10                        0                          10\n"
     ]
    },
    {
     "data": {
      "text/plain": [
       "<sympy.plotting.plot.Plot at 0x7f672497a890>"
      ]
     },
     "execution_count": 4,
     "metadata": {},
     "output_type": "execute_result"
    }
   ],
   "source": [
    "plot(f)"
   ]
  },
  {
   "cell_type": "code",
   "execution_count": 6,
   "metadata": {},
   "outputs": [
    {
     "data": {
      "text/latex": [
       "$\\displaystyle 0$"
      ],
      "text/plain": [
       "0"
      ]
     },
     "execution_count": 6,
     "metadata": {},
     "output_type": "execute_result"
    }
   ],
   "source": [
    "f.subs(x, 5/3)"
   ]
  },
  {
   "cell_type": "code",
   "execution_count": 7,
   "metadata": {},
   "outputs": [
    {
     "data": {
      "text/latex": [
       "$\\displaystyle -1$"
      ],
      "text/plain": [
       "-1"
      ]
     },
     "execution_count": 7,
     "metadata": {},
     "output_type": "execute_result"
    }
   ],
   "source": [
    "f.subs(x, 2)"
   ]
  },
  {
   "cell_type": "code",
   "execution_count": 11,
   "metadata": {},
   "outputs": [
    {
     "name": "stdout",
     "output_type": "stream",
     "text": [
      "    320 |                                                      /\n",
      "        |                                                     / \n",
      "        |                                                    .  \n",
      "        |.                                                      \n",
      "        |                                                   .   \n",
      "        | .                                                /    \n",
      "        |  \\                                              /     \n",
      "        |   \\                                            /      \n",
      "        |    \\                                          /       \n",
      "        |     \\                                        /        \n",
      "    155 |------\\--------------------------------------/---------\n",
      "        |       \\                                    /          \n",
      "        |        \\                                  /           \n",
      "        |         \\                                /            \n",
      "        |          ..                             /             \n",
      "        |            \\                          ..              \n",
      "        |             ..                       /                \n",
      "        |               ..                   ..                 \n",
      "        |                 ..              ...                   \n",
      "        |                   ....       ...                      \n",
      "    -10 |_______________________________________________________\n",
      "         -10                        0                          10\n"
     ]
    },
    {
     "data": {
      "text/plain": [
       "<sympy.plotting.plot.Plot at 0x7f6716d5a490>"
      ]
     },
     "execution_count": 11,
     "metadata": {},
     "output_type": "execute_result"
    }
   ],
   "source": [
    "f1 = 3*x**2 + 3*x -6\n",
    "plot(f1)"
   ]
  },
  {
   "cell_type": "code",
   "execution_count": 15,
   "metadata": {},
   "outputs": [
    {
     "data": {
      "text/latex": [
       "$\\displaystyle -3.75$"
      ],
      "text/plain": [
       "-3.75000000000000"
      ]
     },
     "execution_count": 15,
     "metadata": {},
     "output_type": "execute_result"
    }
   ],
   "source": [
    "f1.subs(x, 0.5)"
   ]
  },
  {
   "cell_type": "code",
   "execution_count": 17,
   "metadata": {},
   "outputs": [
    {
     "data": {
      "text/latex": [
       "$\\displaystyle 162$"
      ],
      "text/plain": [
       "162"
      ]
     },
     "execution_count": 17,
     "metadata": {},
     "output_type": "execute_result"
    }
   ],
   "source": [
    "f1.subs(x, 7)"
   ]
  },
  {
   "cell_type": "code",
   "execution_count": 21,
   "metadata": {},
   "outputs": [
    {
     "name": "stdout",
     "output_type": "stream",
     "text": [
      "  20000 |                                                      .\n",
      "        |                                                       \n",
      "        |.                                                    . \n",
      "        |                                                       \n",
      "        | .                                                     \n",
      "        |                                                    .  \n",
      "        |                                                       \n",
      "        |  .                                                .   \n",
      "        |                                                       \n",
      "        |   .                                              .    \n",
      "  10000 |-------------------------------------------------------\n",
      "        |    .                                            .     \n",
      "        |     .                                                 \n",
      "        |                                                .      \n",
      "        |      .                                        /       \n",
      "        |       \\                                      /        \n",
      "        |        \\                                    /         \n",
      "        |         ..                                ..          \n",
      "        |           ..                             /            \n",
      "        |             ...                      ....             \n",
      "      0 |_______________________________________________________\n",
      "         -10                        0                          10\n"
     ]
    },
    {
     "data": {
      "text/plain": [
       "<sympy.plotting.plot.Plot at 0x7f671c089690>"
      ]
     },
     "execution_count": 21,
     "metadata": {},
     "output_type": "execute_result"
    }
   ],
   "source": [
    "f2 = 2*x**4+x**3-6*x**2+7*x+1\n",
    "plot(f2)"
   ]
  },
  {
   "cell_type": "code",
   "execution_count": 22,
   "metadata": {},
   "outputs": [
    {
     "data": {
      "text/latex": [
       "$\\displaystyle 157$"
      ],
      "text/plain": [
       "157"
      ]
     },
     "execution_count": 22,
     "metadata": {},
     "output_type": "execute_result"
    }
   ],
   "source": [
    "f2.subs(x, 3)"
   ]
  },
  {
   "cell_type": "code",
   "execution_count": 23,
   "metadata": {},
   "outputs": [
    {
     "data": {
      "text/latex": [
       "$\\displaystyle 941$"
      ],
      "text/plain": [
       "941"
      ]
     },
     "execution_count": 23,
     "metadata": {},
     "output_type": "execute_result"
    }
   ],
   "source": [
    "f2.subs(x, -5)"
   ]
  },
  {
   "cell_type": "code",
   "execution_count": 26,
   "metadata": {},
   "outputs": [
    {
     "name": "stdout",
     "output_type": "stream",
     "text": [
      "  1e+20 |                                                      .\n",
      "        |                                                       \n",
      "        |                                                       \n",
      "        |                                                       \n",
      "        |                                                       \n",
      "        |                                                       \n",
      "        |                                                       \n",
      "        |                                                       \n",
      "        |                                                       \n",
      "        |                                                       \n",
      "  5e+19 |-------------------------------------------------------\n",
      "        |                                                       \n",
      "        |                                                       \n",
      "        |                                                       \n",
      "        |                                                       \n",
      "        |                                                       \n",
      "        |                                                       \n",
      "        |                                                       \n",
      "        |                                                     . \n",
      "        |                                                       \n",
      "      0 |_______________________________________________________\n",
      "         -10                        0                          10\n"
     ]
    },
    {
     "data": {
      "text/plain": [
       "<sympy.plotting.plot.Plot at 0x7f6716def4d0>"
      ]
     },
     "execution_count": 26,
     "metadata": {},
     "output_type": "execute_result"
    }
   ],
   "source": [
    "f3 = (x**2)**x\n",
    "plot(f3)"
   ]
  },
  {
   "cell_type": "code",
   "execution_count": 27,
   "metadata": {},
   "outputs": [
    {
     "data": {
      "text/latex": [
       "$\\displaystyle 1$"
      ],
      "text/plain": [
       "1"
      ]
     },
     "execution_count": 27,
     "metadata": {},
     "output_type": "execute_result"
    }
   ],
   "source": [
    "f3.subs(x, 0)"
   ]
  },
  {
   "cell_type": "code",
   "execution_count": 28,
   "metadata": {},
   "outputs": [
    {
     "data": {
      "text/latex": [
       "$\\displaystyle 100000000000000000000$"
      ],
      "text/plain": [
       "100000000000000000000"
      ]
     },
     "execution_count": 28,
     "metadata": {},
     "output_type": "execute_result"
    }
   ],
   "source": [
    "f3.subs(x, 10)"
   ]
  },
  {
   "cell_type": "code",
   "execution_count": null,
   "metadata": {},
   "outputs": [],
   "source": []
  }
 ],
 "metadata": {
  "colab": {
   "collapsed_sections": [],
   "name": "practice_les-2.ipynb",
   "provenance": []
  },
  "kernelspec": {
   "display_name": "Python 3 (ipykernel)",
   "language": "python",
   "name": "python3"
  },
  "language_info": {
   "codemirror_mode": {
    "name": "ipython",
    "version": 3
   },
   "file_extension": ".py",
   "mimetype": "text/x-python",
   "name": "python",
   "nbconvert_exporter": "python",
   "pygments_lexer": "ipython3",
   "version": "3.11.6"
  }
 },
 "nbformat": 4,
 "nbformat_minor": 4
}
