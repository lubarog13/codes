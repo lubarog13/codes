{
 "cells": [
  {
   "cell_type": "markdown",
   "metadata": {
    "id": "XBfSbTeDk7SZ"
   },
   "source": [
    "## Практика. Исследование параболы с помощью SymPy\n",
    "\n",
    "\n",
    "Итак, мы познакомились с несколькими инструментами для исследования функций. Для закрепления материала мы подготовили несколько практических заданий. Практика будет состоять из двух частей. В первой части нужно понять по эскизу графика функции, какие у нее знаки коэффициентов. <br><br>\n",
    "Во второй части практики исследуйте все типы элементарных функций, по примеру того, как я исследовал параболу в этом уроке. "
   ]
  },
  {
   "cell_type": "markdown",
   "metadata": {
    "id": "5ZLPTbegmvMB"
   },
   "source": [
    "### Первая часть\n",
    "![practice_les-2_pos_1-2.png](https://sun9-58.userapi.com/c858228/v858228580/11d5ae/MzvyoLZ5ttY.jpg)![practice_les-2_pos_2-2.png](https://sun9-58.userapi.com/c858228/v858228580/11d5bc/yhr6c1d3LoI.jpg)<br>\n",
    "\n",
    "![practice_les-2_pos_1-1.png](https://sun9-52.userapi.com/c858228/v858228580/11d5a7/WY1EKnfr_Ro.jpg)![practice_les-2_pos_2-1.png](https://sun9-43.userapi.com/c858228/v858228580/11d5b5/cRGlFAOaPeA.jpg)<br>"
   ]
  },
  {
   "cell_type": "markdown",
   "metadata": {},
   "source": [
    "1) $ax^2 + bx - c$<br>\n",
    "2) $ax^2 + bx + c$<br>\n",
    "3) $-ax^2 + bx + c$<br>\n",
    "4) $-ax^2 + bx - c$<br>"
   ]
  },
  {
   "cell_type": "markdown",
   "metadata": {
    "id": "kqo0XVTqpE1Y"
   },
   "source": [
    "### Вторая часть\n",
    "\n",
    "\n",
    "Импортируйте библиотеку и модуль `plot`, вызовите команду для красивой отрисовки формул. Постройте график каждой функции, проверьте, является ли она четной, нечетной или ни той, ни другой по виду графика и с помощью подстановки значений. Проверьте свойства коэффициентов, которые были упомянуты в уроке про элементарные функции, покрутите линейную функцию, варьируя угловой коэффициент, и подвигайте графики линейной функции и параболу вверх и вниз, меняя свободный член. Графики показательной функции и корня также можно двигать вверх и вниз, добавляя к ним положительные и отрицательные числа, например $f(x)=e^x+1$ –  это график функции $f(x)=e^x$, сдвинутый вверх на единицу. <br>\n",
    "<br>\n",
    "Для параболы проверьте свойство коэффициента при икс в квадрате. Будьте внимательны с промежутками для переменной (областью определения), не сломайте `symPy` :)\n"
   ]
  },
  {
   "cell_type": "markdown",
   "metadata": {
    "id": "SdaRZOdcpuXd"
   },
   "source": [
    "**(1)** В качестве примера показательной функции используйте экспоненциальную функцию $e^x$. В `symPy` ее можно объявить так:"
   ]
  },
  {
   "cell_type": "code",
   "execution_count": 4,
   "metadata": {},
   "outputs": [],
   "source": [
    "from sympy import *\n",
    "from sympy.plotting import plot\n",
    "x=Symbol('x')"
   ]
  },
  {
   "cell_type": "code",
   "execution_count": 6,
   "metadata": {
    "id": "7r4i3FmLpt0s"
   },
   "outputs": [
    {
     "name": "stdout",
     "output_type": "stream",
     "text": [
      "  22000 |                                                      .\n",
      "        |                                                       \n",
      "        |                                                       \n",
      "        |                                                       \n",
      "        |                                                       \n",
      "        |                                                       \n",
      "        |                                                     . \n",
      "        |                                                       \n",
      "        |                                                       \n",
      "        |                                                       \n",
      "  11000 |----------------------------------------------------.--\n",
      "        |                                                       \n",
      "        |                                                       \n",
      "        |                                                   .   \n",
      "        |                                                       \n",
      "        |                                                  .    \n",
      "        |                                                       \n",
      "        |                                                 .     \n",
      "        |                                                /      \n",
      "        |                                             ...       \n",
      "      0 |_______________________________________________________\n",
      "         -10                        0                          10\n"
     ]
    },
    {
     "data": {
      "text/plain": [
       "<sympy.plotting.plot.Plot at 0x7f6316ba8210>"
      ]
     },
     "execution_count": 6,
     "metadata": {},
     "output_type": "execute_result"
    }
   ],
   "source": [
    "f = exp(x)\n",
    "plot(f)"
   ]
  },
  {
   "cell_type": "code",
   "execution_count": 7,
   "metadata": {},
   "outputs": [
    {
     "data": {
      "text/latex": [
       "$\\displaystyle e$"
      ],
      "text/plain": [
       "E"
      ]
     },
     "execution_count": 7,
     "metadata": {},
     "output_type": "execute_result"
    }
   ],
   "source": [
    "f.subs(x, 1)"
   ]
  },
  {
   "cell_type": "code",
   "execution_count": 8,
   "metadata": {},
   "outputs": [
    {
     "data": {
      "text/latex": [
       "$\\displaystyle e^{-1}$"
      ],
      "text/plain": [
       "exp(-1)"
      ]
     },
     "execution_count": 8,
     "metadata": {},
     "output_type": "execute_result"
    }
   ],
   "source": [
    "f.subs(x, -1)"
   ]
  },
  {
   "cell_type": "markdown",
   "metadata": {},
   "source": [
    "не нечетная, не четная"
   ]
  },
  {
   "cell_type": "code",
   "execution_count": 9,
   "metadata": {},
   "outputs": [
    {
     "name": "stdout",
     "output_type": "stream",
     "text": [
      "  22000 |                                                      .\n",
      "        |                                                       \n",
      "        |                                                       \n",
      "        |                                                       \n",
      "        |                                                       \n",
      "        |                                                       \n",
      "        |                                                     . \n",
      "        |                                                       \n",
      "        |                                                       \n",
      "        |                                                       \n",
      "  11000 |----------------------------------------------------.--\n",
      "        |                                                       \n",
      "        |                                                       \n",
      "        |                                                   .   \n",
      "        |                                                       \n",
      "        |                                                  .    \n",
      "        |                                                       \n",
      "        |                                                 .     \n",
      "        |                                                /      \n",
      "        |                                             ...       \n",
      "      0 |_______________________________________________________\n",
      "         -10                        0                          10\n"
     ]
    },
    {
     "data": {
      "text/plain": [
       "<sympy.plotting.plot.Plot at 0x7f63141ed410>"
      ]
     },
     "execution_count": 9,
     "metadata": {},
     "output_type": "execute_result"
    }
   ],
   "source": [
    "f = exp(x) + 1\n",
    "plot(f)"
   ]
  },
  {
   "cell_type": "markdown",
   "metadata": {
    "id": "J7Nzu-X0qPve"
   },
   "source": [
    "**(2)** В качестве примера логарифмической функции используйте натуральный логарифм. В `symPy` его можно объявить так:"
   ]
  },
  {
   "cell_type": "code",
   "execution_count": 13,
   "metadata": {
    "id": "pvzIk4xSqVta"
   },
   "outputs": [
    {
     "name": "stdout",
     "output_type": "stream",
     "text": [
      "    4.6 |                                                .......\n",
      "        |                                      ..........       \n",
      "        |                              ........                 \n",
      "        |                        ......                         \n",
      "        |                   .....                               \n",
      "        |               ....                                    \n",
      "        |            ...                                        \n",
      "        |          ..                                           \n",
      "        |        ..                                             \n",
      "        |      ..                                               \n",
      "    2.3 |-----/-------------------------------------------------\n",
      "        |    /                                                  \n",
      "        |   /                                                   \n",
      "        |  .                                                    \n",
      "        |                                                       \n",
      "        | .                                                     \n",
      "        |                                                       \n",
      "        |                                                       \n",
      "        |                                                       \n",
      "        |                                                       \n",
      "      0 |_______________________________________________________\n",
      "         1                          50.5                       100\n"
     ]
    },
    {
     "data": {
      "text/plain": [
       "<sympy.plotting.plot.Plot at 0x7f63140c3590>"
      ]
     },
     "execution_count": 13,
     "metadata": {},
     "output_type": "execute_result"
    }
   ],
   "source": [
    "f1 = ln(x)\n",
    "plot(f1,  (x, 1, 100))"
   ]
  },
  {
   "cell_type": "code",
   "execution_count": null,
   "metadata": {},
   "outputs": [],
   "source": [
    "не нечетная, не четная (выходит за область определения)"
   ]
  },
  {
   "cell_type": "code",
   "execution_count": 16,
   "metadata": {},
   "outputs": [
    {
     "name": "stdout",
     "output_type": "stream",
     "text": [
      "   29.2 |                                                .......\n",
      "        |                                      ..........       \n",
      "        |                              ........                 \n",
      "        |                        ......                         \n",
      "        |                   .....                               \n",
      "        |               ....                                    \n",
      "        |            ...                                        \n",
      "        |          ..                                           \n",
      "        |        ..                                             \n",
      "        |      ..                                               \n",
      "   24.6 |-----/-------------------------------------------------\n",
      "        |    /                                                  \n",
      "        |   /                                                   \n",
      "        |  .                                                    \n",
      "        |                                                       \n",
      "        | .                                                     \n",
      "        |                                                       \n",
      "        |                                                       \n",
      "        |                                                       \n",
      "        |                                                       \n",
      "     20 |_______________________________________________________\n",
      "         1                          50.5                       100\n"
     ]
    },
    {
     "data": {
      "text/plain": [
       "<sympy.plotting.plot.Plot at 0x7f630f6330d0>"
      ]
     },
     "execution_count": 16,
     "metadata": {},
     "output_type": "execute_result"
    }
   ],
   "source": [
    "f1 = 2* ln(x) + 20\n",
    "plot(f1,  (x, 1, 100))"
   ]
  },
  {
   "cell_type": "markdown",
   "metadata": {
    "id": "cIpbJ597qa7z"
   },
   "source": [
    "**(3)** В качестве примера одной квадратичной функции используйте следующую функцию:   $f(x)=2x^2+3x-5$."
   ]
  },
  {
   "cell_type": "code",
   "execution_count": null,
   "metadata": {},
   "outputs": [],
   "source": []
  },
  {
   "cell_type": "markdown",
   "metadata": {
    "id": "gRdTqWbJqmEK"
   },
   "source": [
    "**(4)** В качестве примера другой квадратичной функции используйте следующую функцию:   $f(x)=5x^2-8$."
   ]
  },
  {
   "cell_type": "markdown",
   "metadata": {
    "id": "e0xydv-Hqte7"
   },
   "source": [
    "**(5)** В качестве функции корня используйте просто корень: $f(x)=\\sqrt(x)$."
   ]
  },
  {
   "cell_type": "code",
   "execution_count": null,
   "metadata": {
    "id": "996Gvn0Wuer7"
   },
   "outputs": [],
   "source": []
  }
 ],
 "metadata": {
  "colab": {
   "collapsed_sections": [],
   "name": "practice_les-5.ipynb",
   "provenance": []
  },
  "kernelspec": {
   "display_name": "Python 3 (ipykernel)",
   "language": "python",
   "name": "python3"
  },
  "language_info": {
   "codemirror_mode": {
    "name": "ipython",
    "version": 3
   },
   "file_extension": ".py",
   "mimetype": "text/x-python",
   "name": "python",
   "nbconvert_exporter": "python",
   "pygments_lexer": "ipython3",
   "version": "3.11.6"
  }
 },
 "nbformat": 4,
 "nbformat_minor": 4
}
