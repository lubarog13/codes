{
 "cells": [
  {
   "cell_type": "code",
   "execution_count": 3,
   "id": "474d878d-864d-4e59-856e-9e952e5c5308",
   "metadata": {},
   "outputs": [],
   "source": [
    "from sympy import *\n",
    "# import matplotlib.pyplot as plt\n",
    "import numpy as np\n",
    "x = Symbol('x')"
   ]
  },
  {
   "cell_type": "code",
   "execution_count": null,
   "id": "75c79988-9e9a-4e17-b91b-0fca254f7503",
   "metadata": {},
   "outputs": [],
   "source": [
    "def print_points_ands_function(sympy_functionб points_X, points_Y):\n",
    "    def function(x_): return float(sympy_function.subs(x, x_))\n",
    "    \n",
    "    plt.ylim(-1, 35)\n",
    "    plt.xlim(-15, 15)\n",
    "    \n",
    "    plt.scatter(points_X, points_Y, c='r')\n",
    "    x_range = np.linspace(plt.xlim()[0], plt.xlim()[1], num=100)\n",
    "    function_Y = [function(x_) for x_ in x_range]\n",
    "    plt.plot(x_range, function_Y, 'b')\n",
    "    plt.show()\n",
    "    \n",
    "    MSE = sum([(points_Y[i] - function(points_X[i]))**2 for i in range(len(points_Y))]) / len(points_Y)\n",
    "    print(f'MSE = {MSE}')"
   ]
  },
  {
   "cell_type": "code",
   "execution_count": 4,
   "id": "2389ef72-a309-4117-ad25-2c8163cdc0a1",
   "metadata": {},
   "outputs": [],
   "source": [
    "f1=3*x+5\n",
    "points1_X = np.array([2, 4, 8])\n",
    "points1_Y = np.array([12.258, 17.34, 30.151])"
   ]
  },
  {
   "cell_type": "code",
   "execution_count": null,
   "id": "d2e70e60-a5e6-4e3c-9e2b-1de8965d02d6",
   "metadata": {},
   "outputs": [],
   "source": [
    "print_points_ands_function(f1, points1_X, points1_Y)"
   ]
  },
  {
   "cell_type": "code",
   "execution_count": null,
   "id": "bcbeb5f2-fbe0-4482-9a54-53a0ce52853f",
   "metadata": {},
   "outputs": [],
   "source": [
    "f2=0.25*x**2 + 0.75*x + 1.25\n",
    "points2_X = np.array([2, 4, 8])\n",
    "points2_Y = np.array([3.688, 10.791, 20.705])"
   ]
  },
  {
   "cell_type": "code",
   "execution_count": null,
   "id": "06135ff2-5bc5-4014-9d11-b1ef6a78ac9a",
   "metadata": {},
   "outputs": [],
   "source": [
    "print_points_ands_function(f2, points2_X, points2_Y)"
   ]
  },
  {
   "cell_type": "code",
   "execution_count": null,
   "id": "1b082214-f54c-4ecd-b26c-0107c4c59391",
   "metadata": {},
   "outputs": [],
   "source": [
    "f3=0.5*x**3 - 0.25*x**2 + 0.75*x + 1.25\n",
    "points3_X = np.array([2, 4, 10, 12])\n",
    "points3_Y = np.array([4.872, 29.707, 246.971, 485.727, 840.658])"
   ]
  },
  {
   "cell_type": "code",
   "execution_count": null,
   "id": "b54fa524-f638-4aca-9a1a-0080bc8f2660",
   "metadata": {},
   "outputs": [],
   "source": [
    "def print_points_ands_function(sympy_functionб points_X, points_Y):\n",
    "    def function(x_): return float(sympy_function.subs(x, x_))\n",
    "    \n",
    "    plt.ylim(-1, 1000)\n",
    "    plt.xlim(-15, 15)\n",
    "    \n",
    "    plt.scatter(points_X, points_Y, c='r')\n",
    "    x_range = np.linspace(plt.xlim()[0], plt.xlim()[1], num=100)\n",
    "    function_Y = [function(x_) for x_ in x_range]\n",
    "    plt.plot(x_range, function_Y, 'b')\n",
    "    plt.show()\n",
    "    \n",
    "    MSE = sum([(points_Y[i] - function(points_X[i]))**2 for i in range(len(points_Y))]) / len(points_Y)\n",
    "    print(f'MSE = {MSE}')"
   ]
  },
  {
   "cell_type": "code",
   "execution_count": null,
   "id": "dc9b3f2a-2cd1-4239-8d98-f0a964fd0521",
   "metadata": {},
   "outputs": [],
   "source": [
    "print_points_ands_function(f3, points3_X, points3_Y)"
   ]
  }
 ],
 "metadata": {
  "kernelspec": {
   "display_name": "Python 3 (ipykernel)",
   "language": "python",
   "name": "python3"
  },
  "language_info": {
   "codemirror_mode": {
    "name": "ipython",
    "version": 3
   },
   "file_extension": ".py",
   "mimetype": "text/x-python",
   "name": "python",
   "nbconvert_exporter": "python",
   "pygments_lexer": "ipython3",
   "version": "3.11.7"
  }
 },
 "nbformat": 4,
 "nbformat_minor": 5
}
