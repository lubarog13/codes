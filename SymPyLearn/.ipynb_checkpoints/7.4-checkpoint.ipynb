{
 "cells": [
  {
   "cell_type": "code",
   "execution_count": 1,
   "id": "d17ae3cd-fd6a-4e0a-b614-3166810d93f5",
   "metadata": {},
   "outputs": [],
   "source": [
    "from sympy import *"
   ]
  },
  {
   "cell_type": "code",
   "execution_count": 3,
   "id": "3c233d75-37b9-4561-8c85-5e61a9365df3",
   "metadata": {},
   "outputs": [],
   "source": [
    "init_printing(use_unicode=False, wrap_line=False, no_global=True)\n",
    "a2,a1=symbols('a2, a1')"
   ]
  },
  {
   "cell_type": "code",
   "execution_count": 4,
   "id": "83abe595-8de7-4d45-8a1e-2695489ef851",
   "metadata": {},
   "outputs": [
    {
     "data": {
      "image/png": "[encoded data removed]",
      "text/latex": [
       "$\\displaystyle 0.25 \\left(a_{1} + 2 a_{2} - 5\\right)^{2} + 0.25 \\left(2 a_{1} + 4 a_{2} - 10\\right)^{2} + 0.25 \\left(3 a_{1} + 7 a_{2} - 8\\right)^{2} + 0.25 \\left(5 a_{1} + 3 a_{2} - 6\\right)^{2}$"
      ],
      "text/plain": [
       "                    2                          2                         2                         2\n",
       "0.25*(a1 + 2*a2 - 5)  + 0.25*(2*a1 + 4*a2 - 10)  + 0.25*(3*a1 + 7*a2 - 8)  + 0.25*(5*a1 + 3*a2 - 6) "
      ]
     },
     "execution_count": 4,
     "metadata": {},
     "output_type": "execute_result"
    }
   ],
   "source": [
    "MSE = 1/4 * ((a1 + 2*a2 - 5)**2 +(5*a1 + 3*a2 - 6)**2 + (2*a1 + 4*a2 - 10)**2 + (3*a1 + 7*a2 - 8)**2)\n",
    "MSE"
   ]
  },
  {
   "cell_type": "code",
   "execution_count": 5,
   "id": "6b5ff428-93cd-42d2-bdfa-d2ff8dd34d2a",
   "metadata": {},
   "outputs": [],
   "source": [
    "MSE1 = 19.5*a1 + 23*a2 - 39.5\n",
    "MSE2 = 23*a1+39*a2 - 62"
   ]
  },
  {
   "cell_type": "code",
   "execution_count": 7,
   "id": "b730f720-b664-4df3-9494-8d121d48265a",
   "metadata": {},
   "outputs": [
    {
     "data": {
      "image/png": "[encoded data removed]",
      "text/latex": [
       "$\\displaystyle -7.455$"
      ],
      "text/plain": [
       "-7.45500000000000"
      ]
     },
     "execution_count": 7,
     "metadata": {},
     "output_type": "execute_result"
    }
   ],
   "source": [
    "MSE1.subs({a1:0.57 , a2: 0.91})"
   ]
  },
  {
   "cell_type": "code",
   "execution_count": 8,
   "id": "b0db2b10-7caa-4085-a401-b86216ffd955",
   "metadata": {},
   "outputs": [
    {
     "data": {
      "image/png": "[encoded data removed]",
      "text/latex": [
       "$\\displaystyle -13.4$"
      ],
      "text/plain": [
       "-13.4000000000000"
      ]
     },
     "execution_count": 8,
     "metadata": {},
     "output_type": "execute_result"
    }
   ],
   "source": [
    "MSE2.subs({a1:0.57 , a2: 0.91})"
   ]
  },
  {
   "cell_type": "code",
   "execution_count": 11,
   "id": "5bd531d1-297b-4352-95b0-89e828baed0a",
   "metadata": {},
   "outputs": [
    {
     "data": {
      "image/png": "[encoded data removed]",
      "text/latex": [
       "$\\displaystyle 0.64455$"
      ],
      "text/plain": [
       "0.64455"
      ]
     },
     "execution_count": 11,
     "metadata": {},
     "output_type": "execute_result"
    }
   ],
   "source": [
    "0.57 + 7.455*0.01"
   ]
  },
  {
   "cell_type": "code",
   "execution_count": 12,
   "id": "71572999-3f08-4e15-8620-5987af7f39da",
   "metadata": {},
   "outputs": [
    {
     "data": {
      "image/png": "[encoded data removed]",
      "text/latex": [
       "$\\displaystyle 1.044$"
      ],
      "text/plain": [
       "1.044"
      ]
     },
     "execution_count": 12,
     "metadata": {},
     "output_type": "execute_result"
    }
   ],
   "source": [
    "0.91 + 13.4*0.01"
   ]
  },
  {
   "cell_type": "code",
   "execution_count": 13,
   "id": "dade5264-6353-445d-8031-2a283a73a534",
   "metadata": {},
   "outputs": [
    {
     "data": {
      "image/png": "[encoded data removed]",
      "text/latex": [
       "$\\displaystyle 6.843547449375$"
      ],
      "text/plain": [
       "6.84354744937500"
      ]
     },
     "execution_count": 13,
     "metadata": {},
     "output_type": "execute_result"
    }
   ],
   "source": [
    "MSE.subs({a1:0.64455 , a2: 1.044})"
   ]
  },
  {
   "cell_type": "code",
   "execution_count": 14,
   "id": "71d203bb-a06f-40f0-906a-1065da239bb1",
   "metadata": {},
   "outputs": [
    {
     "data": {
      "image/png": "[encoded data removed]",
      "text/latex": [
       "$\\displaystyle -2.919275$"
      ],
      "text/plain": [
       "-2.91927500000000"
      ]
     },
     "execution_count": 14,
     "metadata": {},
     "output_type": "execute_result"
    }
   ],
   "source": [
    "MSE1.subs({a1:0.64455 , a2: 1.044})"
   ]
  },
  {
   "cell_type": "code",
   "execution_count": 15,
   "id": "fef2fb32-049c-415a-9aae-370a7194bd32",
   "metadata": {},
   "outputs": [
    {
     "data": {
      "image/png": "[encoded data removed]",
      "text/latex": [
       "$\\displaystyle -6.45935$"
      ],
      "text/plain": [
       "-6.45935000000000"
      ]
     },
     "execution_count": 15,
     "metadata": {},
     "output_type": "execute_result"
    }
   ],
   "source": [
    "MSE2.subs({a1:0.64455 , a2: 1.044})"
   ]
  },
  {
   "cell_type": "code",
   "execution_count": 16,
   "id": "cce67796-72fe-48c2-aca3-a5674b729e21",
   "metadata": {},
   "outputs": [
    {
     "data": {
      "image/png": "[encoded data removed]",
      "text/latex": [
       "$\\displaystyle 0.712985$"
      ],
      "text/plain": [
       "0.712985"
      ]
     },
     "execution_count": 16,
     "metadata": {},
     "output_type": "execute_result"
    }
   ],
   "source": [
    "0.64455 + 0.01*6.8435"
   ]
  },
  {
   "cell_type": "code",
   "execution_count": 17,
   "id": "afb39bb6-2297-440e-bc69-9689cf9959d1",
   "metadata": {},
   "outputs": [
    {
     "data": {
      "image/png": "[encoded data removed]",
      "text/latex": [
       "$\\displaystyle 1.07319$"
      ],
      "text/plain": [
       "1.07319"
      ]
     },
     "execution_count": 17,
     "metadata": {},
     "output_type": "execute_result"
    }
   ],
   "source": [
    "1.044 + 0.01 * 2.919"
   ]
  },
  {
   "cell_type": "code",
   "execution_count": 19,
   "id": "e8163321-011c-4434-bcd4-9bd6b5e3c52f",
   "metadata": {},
   "outputs": [
    {
     "data": {
      "image/png": "[encoded data removed]",
      "text/latex": [
       "$\\displaystyle 6.56414025$"
      ],
      "text/plain": [
       "6.56414025000000"
      ]
     },
     "execution_count": 19,
     "metadata": {},
     "output_type": "execute_result"
    }
   ],
   "source": [
    "MSE.subs({a1:0.713 , a2: 1.073})"
   ]
  },
  {
   "cell_type": "code",
   "execution_count": 20,
   "id": "d7e30422-46c6-4824-85be-41db3ea88db4",
   "metadata": {},
   "outputs": [
    {
     "data": {
      "image/png": "[encoded data removed]",
      "text/latex": [
       "$\\displaystyle -0.9175$"
      ],
      "text/plain": [
       "-0.917500000000000"
      ]
     },
     "execution_count": 20,
     "metadata": {},
     "output_type": "execute_result"
    }
   ],
   "source": [
    "MSE1.subs({a1:0.713 , a2: 1.073})"
   ]
  },
  {
   "cell_type": "code",
   "execution_count": 21,
   "id": "70b82860-a02b-4447-bb75-f3ee9b18ffa7",
   "metadata": {},
   "outputs": [
    {
     "data": {
      "image/png": "[encoded data removed]",
      "text/latex": [
       "$\\displaystyle -3.754$"
      ],
      "text/plain": [
       "-3.75400000000000"
      ]
     },
     "execution_count": 21,
     "metadata": {},
     "output_type": "execute_result"
    }
   ],
   "source": [
    "MSE2.subs({a1:0.713 , a2: 1.073})"
   ]
  },
  {
   "cell_type": "code",
   "execution_count": 22,
   "id": "098f5ecc-ef65-4116-a3a8-086e1215da0f",
   "metadata": {},
   "outputs": [
    {
     "data": {
      "image/png": "[encoded data removed]",
      "text/latex": [
       "$\\displaystyle 0.722175$"
      ],
      "text/plain": [
       "0.722175"
      ]
     },
     "execution_count": 22,
     "metadata": {},
     "output_type": "execute_result"
    }
   ],
   "source": [
    "0.713 + 0.01*0.9175"
   ]
  },
  {
   "cell_type": "code",
   "execution_count": 23,
   "id": "a47633e1-9b99-4399-95f8-f4d10a0e66ab",
   "metadata": {},
   "outputs": [
    {
     "data": {
      "image/png": "[encoded data removed]",
      "text/latex": [
       "$\\displaystyle 1.11054$"
      ],
      "text/plain": [
       "1.1105399999999999"
      ]
     },
     "execution_count": 23,
     "metadata": {},
     "output_type": "execute_result"
    }
   ],
   "source": [
    "1.073 + 0.01*3.754"
   ]
  },
  {
   "cell_type": "code",
   "execution_count": 24,
   "id": "0d994abd-404a-4aeb-8bb8-ea8da8ff4394",
   "metadata": {},
   "outputs": [
    {
     "data": {
      "image/png": "[encoded data removed]",
      "text/latex": [
       "$\\displaystyle 6.452129$"
      ],
      "text/plain": [
       "6.45212900000000"
      ]
     },
     "execution_count": 24,
     "metadata": {},
     "output_type": "execute_result"
    }
   ],
   "source": [
    "MSE.subs({a1:0.722 , a2: 1.11})"
   ]
  },
  {
   "cell_type": "code",
   "execution_count": 25,
   "id": "4d6e97d1-81c9-428b-97af-33f1ed3b0433",
   "metadata": {},
   "outputs": [
    {
     "data": {
      "image/png": "[encoded data removed]",
      "text/latex": [
       "$\\displaystyle 0.109000000000002$"
      ],
      "text/plain": [
       "0.109000000000002"
      ]
     },
     "execution_count": 25,
     "metadata": {},
     "output_type": "execute_result"
    }
   ],
   "source": [
    "MSE1.subs({a1:0.722, a2: 1.11})"
   ]
  },
  {
   "cell_type": "code",
   "execution_count": 26,
   "id": "bcaa2502-8169-46e8-9926-de4eedd75732",
   "metadata": {},
   "outputs": [
    {
     "data": {
      "image/png": "[encoded data removed]",
      "text/latex": [
       "$\\displaystyle -2.104$"
      ],
      "text/plain": [
       "-2.10400000000000"
      ]
     },
     "execution_count": 26,
     "metadata": {},
     "output_type": "execute_result"
    }
   ],
   "source": [
    "MSE2.subs({a1:0.722, a2: 1.11})"
   ]
  },
  {
   "cell_type": "code",
   "execution_count": 38,
   "id": "69d1412e-d4b5-42d4-852c-2ea63a5d7e07",
   "metadata": {},
   "outputs": [
    {
     "data": {
      "image/png": "[encoded data removed]",
      "text/latex": [
       "$\\displaystyle 0.72091$"
      ],
      "text/plain": [
       "0.7209099999999999"
      ]
     },
     "execution_count": 38,
     "metadata": {},
     "output_type": "execute_result"
    }
   ],
   "source": [
    "0.722 - 0.01*0.109"
   ]
  },
  {
   "cell_type": "code",
   "execution_count": 28,
   "id": "71ecd91c-ab12-4212-8ff1-c41acec73bf1",
   "metadata": {},
   "outputs": [
    {
     "data": {
      "image/png": "[encoded data removed]",
      "text/latex": [
       "$\\displaystyle 1.13104$"
      ],
      "text/plain": [
       "1.13104"
      ]
     },
     "execution_count": 28,
     "metadata": {},
     "output_type": "execute_result"
    }
   ],
   "source": [
    "1.11 + 0.01*2.104"
   ]
  },
  {
   "cell_type": "code",
   "execution_count": 39,
   "id": "deb9a9e2-0e67-448e-a547-ef7e16928ca0",
   "metadata": {},
   "outputs": [
    {
     "data": {
      "image/png": "[encoded data removed]",
      "text/latex": [
       "$\\displaystyle 6.4153995$"
      ],
      "text/plain": [
       "6.41539950000000"
      ]
     },
     "execution_count": 39,
     "metadata": {},
     "output_type": "execute_result"
    }
   ],
   "source": [
    "MSE.subs({a1:0.720 , a2: 1.131})"
   ]
  },
  {
   "cell_type": "code",
   "execution_count": 40,
   "id": "3e603ac6-800b-4c19-8d38-2ffae4938633",
   "metadata": {},
   "outputs": [
    {
     "data": {
      "image/png": "[encoded data removed]",
      "text/latex": [
       "$\\displaystyle 0.553000000000001$"
      ],
      "text/plain": [
       "0.553000000000001"
      ]
     },
     "execution_count": 40,
     "metadata": {},
     "output_type": "execute_result"
    }
   ],
   "source": [
    "MSE1.subs({a1:0.720 , a2: 1.131})"
   ]
  },
  {
   "cell_type": "code",
   "execution_count": 41,
   "id": "b6a3c50e-7145-4f42-9139-b4416b188e0f",
   "metadata": {},
   "outputs": [
    {
     "data": {
      "image/png": "[encoded data removed]",
      "text/latex": [
       "$\\displaystyle -1.331$"
      ],
      "text/plain": [
       "-1.33100000000000"
      ]
     },
     "execution_count": 41,
     "metadata": {},
     "output_type": "execute_result"
    }
   ],
   "source": [
    "MSE2.subs({a1:0.720 , a2: 1.131})"
   ]
  },
  {
   "cell_type": "code",
   "execution_count": 42,
   "id": "de7c2b24-80c6-4505-b572-50989cda24ac",
   "metadata": {},
   "outputs": [
    {
     "data": {
      "image/png": "[encoded data removed]",
      "text/latex": [
       "$\\displaystyle 0.71447$"
      ],
      "text/plain": [
       "0.7144699999999999"
      ]
     },
     "execution_count": 42,
     "metadata": {},
     "output_type": "execute_result"
    }
   ],
   "source": [
    "0.720 - 0.01*0.553"
   ]
  },
  {
   "cell_type": "code",
   "execution_count": 46,
   "id": "40d022cc-764b-44b5-a54a-a6d7f1f313e3",
   "metadata": {},
   "outputs": [
    {
     "data": {
      "image/png": "[encoded data removed]",
      "text/latex": [
       "$\\displaystyle 1.14431$"
      ],
      "text/plain": [
       "1.14431"
      ]
     },
     "execution_count": 46,
     "metadata": {},
     "output_type": "execute_result"
    }
   ],
   "source": [
    "1.131 + 0.01*1.331"
   ]
  },
  {
   "cell_type": "code",
   "execution_count": 47,
   "id": "1fd5cd5d-7cb7-442d-90b3-59b2096c18c2",
   "metadata": {},
   "outputs": [
    {
     "data": {
      "image/png": "[encoded data removed]",
      "text/latex": [
       "$\\displaystyle 6.396685608825$"
      ],
      "text/plain": [
       "6.39668560882500"
      ]
     },
     "execution_count": 47,
     "metadata": {},
     "output_type": "execute_result"
    }
   ],
   "source": [
    "MSE.subs({a1:0.71447 , a2: 1.14431})"
   ]
  },
  {
   "cell_type": "code",
   "execution_count": 48,
   "id": "ccd3e121-27de-4b49-95f1-b388ecffcb78",
   "metadata": {},
   "outputs": [
    {
     "data": {
      "image/png": "[encoded data removed]",
      "text/latex": [
       "$\\displaystyle 0.751294999999999$"
      ],
      "text/plain": [
       "0.751294999999999"
      ]
     },
     "execution_count": 48,
     "metadata": {},
     "output_type": "execute_result"
    }
   ],
   "source": [
    "MSE1.subs({a1:0.71447 , a2: 1.14431})"
   ]
  },
  {
   "cell_type": "code",
   "execution_count": 49,
   "id": "53ddcb23-e097-40f7-8bac-02fd9fe8955c",
   "metadata": {},
   "outputs": [
    {
     "data": {
      "image/png": "[encoded data removed]",
      "text/latex": [
       "$\\displaystyle -0.939099999999996$"
      ],
      "text/plain": [
       "-0.939099999999996"
      ]
     },
     "execution_count": 49,
     "metadata": {},
     "output_type": "execute_result"
    }
   ],
   "source": [
    "MSE2.subs({a1:0.71447 , a2: 1.14431})"
   ]
  },
  {
   "cell_type": "code",
   "execution_count": 50,
   "id": "422342d9-c4bf-4c1e-ac64-a46b6fe49751",
   "metadata": {},
   "outputs": [
    {
     "data": {
      "image/png": "[encoded data removed]",
      "text/latex": [
       "$\\displaystyle 0.706957$"
      ],
      "text/plain": [
       "0.7069570000000001"
      ]
     },
     "execution_count": 50,
     "metadata": {},
     "output_type": "execute_result"
    }
   ],
   "source": [
    "0.71447 - 0.01*0.7513"
   ]
  },
  {
   "cell_type": "code",
   "execution_count": 51,
   "id": "f995c87f-5440-48bd-8a5f-d6204af7409b",
   "metadata": {},
   "outputs": [
    {
     "data": {
      "image/png": "[encoded data removed]",
      "text/latex": [
       "$\\displaystyle 1.15138$"
      ],
      "text/plain": [
       "1.1513799999999998"
      ]
     },
     "execution_count": 51,
     "metadata": {},
     "output_type": "execute_result"
    }
   ],
   "source": [
    "1.14431 + 0.01*0.707"
   ]
  },
  {
   "cell_type": "code",
   "execution_count": 54,
   "id": "d385c2dd-bd00-475c-8a72-30c278a08d87",
   "metadata": {},
   "outputs": [
    {
     "data": {
      "image/png": "[encoded data removed]",
      "text/latex": [
       "$\\displaystyle 6.38472137$"
      ],
      "text/plain": [
       "6.38472137000000"
      ]
     },
     "execution_count": 54,
     "metadata": {},
     "output_type": "execute_result"
    }
   ],
   "source": [
    "MSE.subs({a1:0.707 , a2: 1.1514})"
   ]
  },
  {
   "cell_type": "code",
   "execution_count": 55,
   "id": "a51d7df4-85ac-499e-8738-925cac4e842d",
   "metadata": {},
   "outputs": [
    {
     "data": {
      "image/png": "[encoded data removed]",
      "text/latex": [
       "$\\displaystyle 0.768699999999995$"
      ],
      "text/plain": [
       "0.768699999999995"
      ]
     },
     "execution_count": 55,
     "metadata": {},
     "output_type": "execute_result"
    }
   ],
   "source": [
    "MSE1.subs({a1:0.707 , a2: 1.1514})"
   ]
  },
  {
   "cell_type": "code",
   "execution_count": 56,
   "id": "5ff42885-4b09-41f4-9e1b-e2777367eaff",
   "metadata": {},
   "outputs": [
    {
     "data": {
      "image/png": "[encoded data removed]",
      "text/latex": [
       "$\\displaystyle -0.834400000000002$"
      ],
      "text/plain": [
       "-0.834400000000002"
      ]
     },
     "execution_count": 56,
     "metadata": {},
     "output_type": "execute_result"
    }
   ],
   "source": [
    "MSE2.subs({a1:0.707 , a2: 1.1514})"
   ]
  },
  {
   "cell_type": "code",
   "execution_count": 57,
   "id": "f5d1193c-6122-4d9a-90df-6cdfb4408a28",
   "metadata": {},
   "outputs": [
    {
     "data": {
      "image/png": "[encoded data removed]",
      "text/latex": [
       "$\\displaystyle 0.699313$"
      ],
      "text/plain": [
       "0.699313"
      ]
     },
     "execution_count": 57,
     "metadata": {},
     "output_type": "execute_result"
    }
   ],
   "source": [
    "0.707 - 0.01*0.7687"
   ]
  },
  {
   "cell_type": "code",
   "execution_count": 58,
   "id": "25619b2d-2386-43b7-baa1-4a6e8f07b209",
   "metadata": {},
   "outputs": [
    {
     "data": {
      "image/png": "[encoded data removed]",
      "text/latex": [
       "$\\displaystyle 1.159744$"
      ],
      "text/plain": [
       "1.1597439999999999"
      ]
     },
     "execution_count": 58,
     "metadata": {},
     "output_type": "execute_result"
    }
   ],
   "source": [
    "1.1514 + 0.01*0.8344"
   ]
  },
  {
   "cell_type": "code",
   "execution_count": 59,
   "id": "520bcf6f-db51-4917-804e-6169b6ac10b7",
   "metadata": {},
   "outputs": [
    {
     "data": {
      "image/png": "[encoded data removed]",
      "text/latex": [
       "$\\displaystyle 6.372086405$"
      ],
      "text/plain": [
       "6.37208640500000"
      ]
     },
     "execution_count": 59,
     "metadata": {},
     "output_type": "execute_result"
    }
   ],
   "source": [
    "MSE.subs({a1:0.699 , a2: 1.1597})"
   ]
  },
  {
   "cell_type": "code",
   "execution_count": 60,
   "id": "72e15fbc-0a6f-4427-b8e0-0202f9cbf2c2",
   "metadata": {},
   "outputs": [
    {
     "data": {
      "image/png": "[encoded data removed]",
      "text/latex": [
       "$\\displaystyle 0.803599999999996$"
      ],
      "text/plain": [
       "0.803599999999996"
      ]
     },
     "execution_count": 60,
     "metadata": {},
     "output_type": "execute_result"
    }
   ],
   "source": [
    "MSE1.subs({a1:0.699 , a2: 1.1597})"
   ]
  },
  {
   "cell_type": "code",
   "execution_count": 61,
   "id": "e21b55a0-6067-4cd7-9fc5-9bded8c6c673",
   "metadata": {},
   "outputs": [
    {
     "data": {
      "image/png": "[encoded data removed]",
      "text/latex": [
       "$\\displaystyle -0.694700000000005$"
      ],
      "text/plain": [
       "-0.694700000000005"
      ]
     },
     "execution_count": 61,
     "metadata": {},
     "output_type": "execute_result"
    }
   ],
   "source": [
    "MSE2.subs({a1:0.699 , a2: 1.1597})"
   ]
  },
  {
   "cell_type": "code",
   "execution_count": 62,
   "id": "e4776ff8-126d-4806-9412-cc03459399ce",
   "metadata": {},
   "outputs": [
    {
     "data": {
      "image/png": "[encoded data removed]",
      "text/latex": [
       "$\\displaystyle 0.690964$"
      ],
      "text/plain": [
       "0.6909639999999999"
      ]
     },
     "execution_count": 62,
     "metadata": {},
     "output_type": "execute_result"
    }
   ],
   "source": [
    "0.699 - 0.01*0.8036"
   ]
  },
  {
   "cell_type": "code",
   "execution_count": 63,
   "id": "a867f6c0-3b3c-4220-9537-59f1569b1cca",
   "metadata": {},
   "outputs": [
    {
     "data": {
      "image/png": "[encoded data removed]",
      "text/latex": [
       "$\\displaystyle 1.166647$"
      ],
      "text/plain": [
       "1.166647"
      ]
     },
     "execution_count": 63,
     "metadata": {},
     "output_type": "execute_result"
    }
   ],
   "source": [
    "1.1597 + 0.01*0.6947"
   ]
  },
  {
   "cell_type": "code",
   "execution_count": 64,
   "id": "6a1e5144-b194-4234-9512-d11c186d9b06",
   "metadata": {},
   "outputs": [
    {
     "data": {
      "image/png": "[encoded data removed]",
      "text/latex": [
       "$\\displaystyle 6.36114697$"
      ],
      "text/plain": [
       "6.36114697000000"
      ]
     },
     "execution_count": 64,
     "metadata": {},
     "output_type": "execute_result"
    }
   ],
   "source": [
    "MSE.subs({a1:0.691 , a2: 1.1666})"
   ]
  },
  {
   "cell_type": "code",
   "execution_count": 65,
   "id": "af89dcfe-c6b2-4385-ac44-bb2ac3db0ce6",
   "metadata": {},
   "outputs": [
    {
     "data": {
      "image/png": "[encoded data removed]",
      "text/latex": [
       "$\\displaystyle 0.8063$"
      ],
      "text/plain": [
       "0.806300000000000"
      ]
     },
     "execution_count": 65,
     "metadata": {},
     "output_type": "execute_result"
    }
   ],
   "source": [
    "MSE1.subs({a1:0.691 , a2: 1.1666})"
   ]
  },
  {
   "cell_type": "code",
   "execution_count": 66,
   "id": "a993cd39-231f-4191-b254-c30a190be134",
   "metadata": {},
   "outputs": [
    {
     "data": {
      "image/png": "[encoded data removed]",
      "text/latex": [
       "$\\displaystyle -0.609599999999993$"
      ],
      "text/plain": [
       "-0.609599999999993"
      ]
     },
     "execution_count": 66,
     "metadata": {},
     "output_type": "execute_result"
    }
   ],
   "source": [
    "MSE2.subs({a1:0.691 , a2: 1.1666})"
   ]
  },
  {
   "cell_type": "code",
   "execution_count": 70,
   "id": "38c44a18-ce6f-4bcd-a456-4905856ba947",
   "metadata": {},
   "outputs": [
    {
     "data": {
      "image/png": "[encoded data removed]",
      "text/latex": [
       "$\\displaystyle 0.682937$"
      ],
      "text/plain": [
       "0.6829369999999999"
      ]
     },
     "execution_count": 70,
     "metadata": {},
     "output_type": "execute_result"
    }
   ],
   "source": [
    "0.691- 0.01*0.8063"
   ]
  },
  {
   "cell_type": "code",
   "execution_count": 68,
   "id": "609884f6-1ac2-47af-ae58-05af080a3f9c",
   "metadata": {},
   "outputs": [
    {
     "data": {
      "image/png": "[encoded data removed]",
      "text/latex": [
       "$\\displaystyle 1.172696$"
      ],
      "text/plain": [
       "1.1726960000000002"
      ]
     },
     "execution_count": 68,
     "metadata": {},
     "output_type": "execute_result"
    }
   ],
   "source": [
    "1.1666 + 0.01*0.6096"
   ]
  },
  {
   "cell_type": "code",
   "execution_count": 71,
   "id": "386f5be3-6a9e-4918-a0c8-b214f3db2961",
   "metadata": {},
   "outputs": [
    {
     "data": {
      "image/png": "[encoded data removed]",
      "text/latex": [
       "$\\displaystyle 6.351205205$"
      ],
      "text/plain": [
       "6.35120520500000"
      ]
     },
     "execution_count": 71,
     "metadata": {},
     "output_type": "execute_result"
    }
   ],
   "source": [
    "MSE.subs({a1:0.683 , a2: 1.1727})"
   ]
  },
  {
   "cell_type": "code",
   "execution_count": null,
   "id": "1f9e0a5f-a997-43b0-ad6e-257b400b61d7",
   "metadata": {},
   "outputs": [],
   "source": []
  }
 ],
 "metadata": {
  "kernelspec": {
   "display_name": "Python 3 (ipykernel)",
   "language": "python",
   "name": "python3"
  },
  "language_info": {
   "codemirror_mode": {
    "name": "ipython",
    "version": 3
   },
   "file_extension": ".py",
   "mimetype": "text/x-python",
   "name": "python",
   "nbconvert_exporter": "python",
   "pygments_lexer": "ipython3",
   "version": "3.12.2"
  }
 },
 "nbformat": 4,
 "nbformat_minor": 5
}
