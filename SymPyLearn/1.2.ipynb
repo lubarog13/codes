{
 "cells": [
  {
   "cell_type": "markdown",
   "metadata": {
    "id": "XBfSbTeDk7SZ"
   },
   "source": [
    "## Практика. Исследование параболы с помощью SymPy\n",
    "\n",
    "\n",
    "Итак, мы познакомились с несколькими инструментами для исследования функций. Для закрепления материала мы подготовили несколько практических заданий. Практика будет состоять из двух частей. В первой части нужно понять по эскизу графика функции, какие у нее знаки коэффициентов. <br><br>\n",
    "Во второй части практики исследуйте все типы элементарных функций, по примеру того, как я исследовал параболу в этом уроке. "
   ]
  },
  {
   "cell_type": "markdown",
   "metadata": {
    "id": "5ZLPTbegmvMB"
   },
   "source": [
    "### Первая часть\n",
    "![practice_les-2_pos_1-2.png](https://sun9-58.userapi.com/c858228/v858228580/11d5ae/MzvyoLZ5ttY.jpg)![practice_les-2_pos_2-2.png](https://sun9-58.userapi.com/c858228/v858228580/11d5bc/yhr6c1d3LoI.jpg)<br>\n",
    "\n",
    "![practice_les-2_pos_1-1.png](https://sun9-52.userapi.com/c858228/v858228580/11d5a7/WY1EKnfr_Ro.jpg)![practice_les-2_pos_2-1.png](https://sun9-43.userapi.com/c858228/v858228580/11d5b5/cRGlFAOaPeA.jpg)<br>"
   ]
  },
  {
   "cell_type": "markdown",
   "metadata": {},
   "source": [
    "1) $ax^2 + bx - c$<br>\n",
    "2) $ax^2 + bx + c$<br>\n",
    "3) $-ax^2 + bx + c$<br>\n",
    "4) $-ax^2 + bx - c$<br>"
   ]
  },
  {
   "cell_type": "markdown",
   "metadata": {
    "id": "kqo0XVTqpE1Y"
   },
   "source": [
    "### Вторая часть\n",
    "\n",
    "\n",
    "Импортируйте библиотеку и модуль `plot`, вызовите команду для красивой отрисовки формул. Постройте график каждой функции, проверьте, является ли она четной, нечетной или ни той, ни другой по виду графика и с помощью подстановки значений. Проверьте свойства коэффициентов, которые были упомянуты в уроке про элементарные функции, покрутите линейную функцию, варьируя угловой коэффициент, и подвигайте графики линейной функции и параболу вверх и вниз, меняя свободный член. Графики показательной функции и корня также можно двигать вверх и вниз, добавляя к ним положительные и отрицательные числа, например $f(x)=e^x+1$ –  это график функции $f(x)=e^x$, сдвинутый вверх на единицу. <br>\n",
    "<br>\n",
    "Для параболы проверьте свойство коэффициента при икс в квадрате. Будьте внимательны с промежутками для переменной (областью определения), не сломайте `symPy` :)\n"
   ]
  },
  {
   "cell_type": "markdown",
   "metadata": {
    "id": "SdaRZOdcpuXd"
   },
   "source": [
    "**(1)** В качестве примера показательной функции используйте экспоненциальную функцию $e^x$. В `symPy` ее можно объявить так:"
   ]
  },
  {
   "cell_type": "code",
   "execution_count": 3,
   "metadata": {},
   "outputs": [
    {
     "ename": "ModuleNotFoundError",
     "evalue": "No module named 'matplotlib'",
     "output_type": "error",
     "traceback": [
      "\u001b[0;31m---------------------------------------------------------------------------\u001b[0m",
      "\u001b[0;31mModuleNotFoundError\u001b[0m                       Traceback (most recent call last)",
      "Cell \u001b[0;32mIn[3], line 3\u001b[0m\n\u001b[1;32m      1\u001b[0m \u001b[38;5;28;01mfrom\u001b[39;00m \u001b[38;5;21;01msympy\u001b[39;00m \u001b[38;5;28;01mimport\u001b[39;00m \u001b[38;5;241m*\u001b[39m\n\u001b[1;32m      2\u001b[0m \u001b[38;5;28;01mfrom\u001b[39;00m \u001b[38;5;21;01msympy\u001b[39;00m\u001b[38;5;21;01m.\u001b[39;00m\u001b[38;5;21;01mplotting\u001b[39;00m \u001b[38;5;28;01mimport\u001b[39;00m plot\n\u001b[0;32m----> 3\u001b[0m \u001b[38;5;28;01mfrom\u001b[39;00m \u001b[38;5;21;01mmatplotlib\u001b[39;00m \u001b[38;5;28;01mimport\u001b[39;00m \u001b[38;5;241m*\u001b[39m\n\u001b[1;32m      4\u001b[0m x\u001b[38;5;241m=\u001b[39mSymbol(\u001b[38;5;124m'\u001b[39m\u001b[38;5;124mx\u001b[39m\u001b[38;5;124m'\u001b[39m)\n\u001b[1;32m      5\u001b[0m init_printing(use_unicode\u001b[38;5;241m=\u001b[39m\u001b[38;5;28;01mFalse\u001b[39;00m, wrap_line\u001b[38;5;241m=\u001b[39m\u001b[38;5;28;01mFalse\u001b[39;00m, no_global\u001b[38;5;241m=\u001b[39m\u001b[38;5;28;01mTrue\u001b[39;00m)\n",
      "\u001b[0;31mModuleNotFoundError\u001b[0m: No module named 'matplotlib'"
     ]
    }
   ],
   "source": [
    "from sympy import *\n",
    "from sympy.plotting import plot\n",
    "from matplotlib import *\n",
    "x=Symbol('x')\n",
    "init_printing(use_unicode=False, wrap_line=False, no_global=True)"
   ]
  },
  {
   "cell_type": "code",
   "execution_count": 2,
   "metadata": {
    "id": "7r4i3FmLpt0s"
   },
   "outputs": [
    {
     "name": "stdout",
     "output_type": "stream",
     "text": [
      "  22000 |                                                      .\n",
      "        |                                                       \n",
      "        |                                                       \n",
      "        |                                                       \n",
      "        |                                                       \n",
      "        |                                                       \n",
      "        |                                                     . \n",
      "        |                                                       \n",
      "        |                                                       \n",
      "        |                                                       \n",
      "  11000 |----------------------------------------------------.--\n",
      "        |                                                       \n",
      "        |                                                       \n",
      "        |                                                   .   \n",
      "        |                                                       \n",
      "        |                                                  .    \n",
      "        |                                                       \n",
      "        |                                                 .     \n",
      "        |                                                /      \n",
      "        |                                             ...       \n",
      "      0 |_______________________________________________________\n",
      "         -10                        0                          10\n"
     ]
    },
    {
     "data": {
      "text/plain": [
       "<sympy.plotting.plot.Plot at 0x7fc5b4068ad0>"
      ]
     },
     "execution_count": 2,
     "metadata": {},
     "output_type": "execute_result"
    }
   ],
   "source": [
    "f = exp(x)\n",
    "plot(f)"
   ]
  },
  {
   "cell_type": "code",
   "execution_count": 6,
   "metadata": {},
   "outputs": [
    {
     "data": {
      "text/latex": [
       "$\\displaystyle e$"
      ],
      "text/plain": [
       "E"
      ]
     },
     "execution_count": 6,
     "metadata": {},
     "output_type": "execute_result"
    }
   ],
   "source": [
    "f.subs(x, 1)"
   ]
  },
  {
   "cell_type": "code",
   "execution_count": 7,
   "metadata": {},
   "outputs": [
    {
     "data": {
      "text/latex": [
       "$\\displaystyle e^{-1}$"
      ],
      "text/plain": [
       "exp(-1)"
      ]
     },
     "execution_count": 7,
     "metadata": {},
     "output_type": "execute_result"
    }
   ],
   "source": [
    "f.subs(x, -1)"
   ]
  },
  {
   "cell_type": "markdown",
   "metadata": {},
   "source": [
    "не нечетная, не четная"
   ]
  },
  {
   "cell_type": "code",
   "execution_count": 8,
   "metadata": {},
   "outputs": [
    {
     "name": "stdout",
     "output_type": "stream",
     "text": [
      "  22000 |                                                      .\n",
      "        |                                                       \n",
      "        |                                                       \n",
      "        |                                                       \n",
      "        |                                                       \n",
      "        |                                                       \n",
      "        |                                                     . \n",
      "        |                                                       \n",
      "        |                                                       \n",
      "        |                                                       \n",
      "  11000 |----------------------------------------------------.--\n",
      "        |                                                       \n",
      "        |                                                       \n",
      "        |                                                   .   \n",
      "        |                                                       \n",
      "        |                                                  .    \n",
      "        |                                                       \n",
      "        |                                                 .     \n",
      "        |                                                /      \n",
      "        |                                             ...       \n",
      "      0 |_______________________________________________________\n",
      "         -10                        0                          10\n"
     ]
    },
    {
     "data": {
      "text/plain": [
       "<sympy.plotting.plot.Plot at 0x7fb733ce21d0>"
      ]
     },
     "execution_count": 8,
     "metadata": {},
     "output_type": "execute_result"
    }
   ],
   "source": [
    "f = exp(x) + 1\n",
    "plot(f)"
   ]
  },
  {
   "cell_type": "markdown",
   "metadata": {
    "id": "J7Nzu-X0qPve"
   },
   "source": [
    "**(2)** В качестве примера логарифмической функции используйте натуральный логарифм. В `symPy` его можно объявить так:"
   ]
  },
  {
   "cell_type": "code",
   "execution_count": 9,
   "metadata": {
    "id": "pvzIk4xSqVta"
   },
   "outputs": [
    {
     "name": "stdout",
     "output_type": "stream",
     "text": [
      "    4.6 |                                                .......\n",
      "        |                                      ..........       \n",
      "        |                              ........                 \n",
      "        |                        ......                         \n",
      "        |                   .....                               \n",
      "        |               ....                                    \n",
      "        |            ...                                        \n",
      "        |          ..                                           \n",
      "        |        ..                                             \n",
      "        |      ..                                               \n",
      "    2.3 |-----/-------------------------------------------------\n",
      "        |    /                                                  \n",
      "        |   /                                                   \n",
      "        |  .                                                    \n",
      "        |                                                       \n",
      "        | .                                                     \n",
      "        |                                                       \n",
      "        |                                                       \n",
      "        |                                                       \n",
      "        |                                                       \n",
      "      0 |_______________________________________________________\n",
      "         1                          50.5                       100\n"
     ]
    },
    {
     "data": {
      "text/plain": [
       "<sympy.plotting.plot.Plot at 0x7fb73262e150>"
      ]
     },
     "execution_count": 9,
     "metadata": {},
     "output_type": "execute_result"
    }
   ],
   "source": [
    "f1 = ln(x)\n",
    "plot(f1,  (x, 1, 100))"
   ]
  },
  {
   "cell_type": "markdown",
   "metadata": {},
   "source": [
    "не нечетная, не четная (выходит за область определения)"
   ]
  },
  {
   "cell_type": "code",
   "execution_count": 17,
   "metadata": {},
   "outputs": [
    {
     "name": "stdout",
     "output_type": "stream",
     "text": [
      "   24.6 |                                                .......\n",
      "        |                                      ..........       \n",
      "        |                              ........                 \n",
      "        |                        ......                         \n",
      "        |                   .....                               \n",
      "        |               ....                                    \n",
      "        |            ...                                        \n",
      "        |          ..                                           \n",
      "        |        ..                                             \n",
      "        |      ..                                               \n",
      "   22.3 |-----/-------------------------------------------------\n",
      "        |    /                                                  \n",
      "        |   /                                                   \n",
      "        |  .                                                    \n",
      "        |                                                       \n",
      "        | .                                                     \n",
      "        |                                                       \n",
      "        |                                                       \n",
      "        |                                                       \n",
      "        |                                                       \n",
      "     20 |_______________________________________________________\n",
      "         1                          50.5                       100\n"
     ]
    },
    {
     "data": {
      "text/plain": [
       "<sympy.plotting.plot.Plot at 0x7fb7325f9d90>"
      ]
     },
     "execution_count": 17,
     "metadata": {},
     "output_type": "execute_result"
    }
   ],
   "source": [
    "f1 = ln(x) + 20\n",
    "plot(f1,  (x, 1, 100))"
   ]
  },
  {
   "cell_type": "markdown",
   "metadata": {
    "id": "cIpbJ597qa7z"
   },
   "source": [
    "**(3)** В качестве примера одной квадратичной функции используйте следующую функцию:   $f(x)=2x^2+3x-5$."
   ]
  },
  {
   "cell_type": "code",
   "execution_count": 12,
   "metadata": {},
   "outputs": [
    {
     "name": "stdout",
     "output_type": "stream",
     "text": [
      "    220 |                                                      /\n",
      "        |                                                     / \n",
      "        |                                                    .  \n",
      "        |                                                       \n",
      "        |                                                   .   \n",
      "        |\\                                                 /    \n",
      "        | \\                                               /     \n",
      "        |  \\                                             /      \n",
      "        |   \\                                           /       \n",
      "        |    \\                                         /        \n",
      "    105 |-----\\---------------------------------------/---------\n",
      "        |      \\                                     /          \n",
      "        |       \\                                   /           \n",
      "        |        \\                                 /            \n",
      "        |         ..                             ..             \n",
      "        |           \\                           /               \n",
      "        |            ..                       ..                \n",
      "        |              ..                   ..                  \n",
      "        |                ..              ...                    \n",
      "        |                  .....     ....                       \n",
      "    -10 |_______________________________________________________\n",
      "         -10                        0                          10\n"
     ]
    },
    {
     "data": {
      "text/plain": [
       "<sympy.plotting.plot.Plot at 0x7fb7325e8310>"
      ]
     },
     "execution_count": 12,
     "metadata": {},
     "output_type": "execute_result"
    }
   ],
   "source": [
    "f2 = 2* x **2 + 3*x - 5\n",
    "plot(f2)"
   ]
  },
  {
   "cell_type": "code",
   "execution_count": 13,
   "metadata": {},
   "outputs": [
    {
     "data": {
      "text/latex": [
       "$\\displaystyle 0$"
      ],
      "text/plain": [
       "0"
      ]
     },
     "execution_count": 13,
     "metadata": {},
     "output_type": "execute_result"
    }
   ],
   "source": [
    "f2.subs(x, 1)"
   ]
  },
  {
   "cell_type": "code",
   "execution_count": 20,
   "metadata": {
    "scrolled": true
   },
   "outputs": [
    {
     "data": {
      "text/latex": [
       "$\\displaystyle -6$"
      ],
      "text/plain": [
       "-6"
      ]
     },
     "execution_count": 20,
     "metadata": {},
     "output_type": "execute_result"
    }
   ],
   "source": [
    "f2.subs(x, -1)"
   ]
  },
  {
   "cell_type": "markdown",
   "metadata": {},
   "source": [
    "не нечетная, не четная"
   ]
  },
  {
   "cell_type": "code",
   "execution_count": 18,
   "metadata": {},
   "outputs": [
    {
     "name": "stdout",
     "output_type": "stream",
     "text": [
      "    420 |                                                      /\n",
      "        |                                                     . \n",
      "        |                                                       \n",
      "        |\\                                                   .  \n",
      "        | \\                                                 /   \n",
      "        |  \\                                               /    \n",
      "        |   .                                             .     \n",
      "        |                                                       \n",
      "        |    .                                           .      \n",
      "        |     \\                                         /       \n",
      "    205 |------\\---------------------------------------/--------\n",
      "        |       \\                                     /         \n",
      "        |        \\                                   /          \n",
      "        |         ..                               ..           \n",
      "        |           \\                             /             \n",
      "        |            \\                           /              \n",
      "        |             ..                       ..               \n",
      "        |               ..                   ..                 \n",
      "        |                 ..               ..                   \n",
      "        |                   ....       ....                     \n",
      "    -10 |_______________________________________________________\n",
      "         -10                        0                          10\n"
     ]
    },
    {
     "data": {
      "text/plain": [
       "<sympy.plotting.plot.Plot at 0x7fb7325fa310>"
      ]
     },
     "execution_count": 18,
     "metadata": {},
     "output_type": "execute_result"
    }
   ],
   "source": [
    "f2 = 4* x **2 + 3*x - 7\n",
    "plot(f2)"
   ]
  },
  {
   "cell_type": "markdown",
   "metadata": {
    "id": "gRdTqWbJqmEK"
   },
   "source": [
    "**(4)** В качестве примера другой квадратичной функции используйте следующую функцию:   $f(x)=5x^2-8$."
   ]
  },
  {
   "cell_type": "code",
   "execution_count": 23,
   "metadata": {},
   "outputs": [
    {
     "name": "stdout",
     "output_type": "stream",
     "text": [
      "    490 |\\                                                     /\n",
      "        | .                                                   . \n",
      "        |                                                       \n",
      "        |  .                                                 .  \n",
      "        |   \\                                               /   \n",
      "        |    .                                             .    \n",
      "        |                                                       \n",
      "        |     .                                           .     \n",
      "        |      \\                                         /      \n",
      "        |       \\                                       /       \n",
      "    240 |--------\\-------------------------------------/--------\n",
      "        |         \\                                   /         \n",
      "        |          \\                                 /          \n",
      "        |           \\                               /           \n",
      "        |            \\                             /            \n",
      "        |             ..                         ..             \n",
      "        |               \\                       /               \n",
      "        |                ..                   ..                \n",
      "        |                  ..               ..                  \n",
      "        |                    ....       ....                    \n",
      "    -10 |_______________________________________________________\n",
      "         -10                        0                          10\n"
     ]
    },
    {
     "data": {
      "text/plain": [
       "<sympy.plotting.plot.Plot at 0x7fb732425bd0>"
      ]
     },
     "execution_count": 23,
     "metadata": {},
     "output_type": "execute_result"
    }
   ],
   "source": [
    "f3 = 5*x **2 - 8\n",
    "plot(f3)"
   ]
  },
  {
   "cell_type": "code",
   "execution_count": 21,
   "metadata": {},
   "outputs": [
    {
     "data": {
      "text/latex": [
       "$\\displaystyle -3$"
      ],
      "text/plain": [
       "-3"
      ]
     },
     "execution_count": 21,
     "metadata": {},
     "output_type": "execute_result"
    }
   ],
   "source": [
    "f3.subs(x, 1)"
   ]
  },
  {
   "cell_type": "code",
   "execution_count": 22,
   "metadata": {},
   "outputs": [
    {
     "data": {
      "text/latex": [
       "$\\displaystyle -3$"
      ],
      "text/plain": [
       "-3"
      ]
     },
     "execution_count": 22,
     "metadata": {},
     "output_type": "execute_result"
    }
   ],
   "source": [
    "f3.subs(x, -1)"
   ]
  },
  {
   "cell_type": "markdown",
   "metadata": {},
   "source": [
    "четная функция"
   ]
  },
  {
   "cell_type": "code",
   "execution_count": 24,
   "metadata": {},
   "outputs": [
    {
     "name": "stdout",
     "output_type": "stream",
     "text": [
      "   1000 |\\                                                     /\n",
      "        | .                                                   . \n",
      "        |                                                       \n",
      "        |  .                                                 .  \n",
      "        |   \\                                               /   \n",
      "        |    .                                             .    \n",
      "        |                                                       \n",
      "        |     .                                           .     \n",
      "        |      \\                                         /      \n",
      "        |       \\                                       /       \n",
      "    500 |--------\\-------------------------------------/--------\n",
      "        |         \\                                   /         \n",
      "        |          \\                                 /          \n",
      "        |           \\                               /           \n",
      "        |            \\                             /            \n",
      "        |             ..                         ..             \n",
      "        |               \\                       /               \n",
      "        |                ..                   ..                \n",
      "        |                  ..               ..                  \n",
      "        |                    ...         ...                    \n",
      "      0 |_______________________________________________________\n",
      "         -10                        0                          10\n"
     ]
    },
    {
     "data": {
      "text/plain": [
       "<sympy.plotting.plot.Plot at 0x7fb732426350>"
      ]
     },
     "execution_count": 24,
     "metadata": {},
     "output_type": "execute_result"
    }
   ],
   "source": [
    "f3 = 10*x **2 +2\n",
    "plot(f3)"
   ]
  },
  {
   "cell_type": "markdown",
   "metadata": {
    "id": "e0xydv-Hqte7"
   },
   "source": [
    "**(5)** В качестве функции корня используйте просто корень: $f(x)=\\sqrt(x)$."
   ]
  },
  {
   "cell_type": "code",
   "execution_count": 26,
   "metadata": {
    "id": "996Gvn0Wuer7"
   },
   "outputs": [
    {
     "name": "stdout",
     "output_type": "stream",
     "text": [
      "     10 |                                                    ...\n",
      "        |                                               .....   \n",
      "        |                                          .....        \n",
      "        |                                     .....             \n",
      "        |                                 ....                  \n",
      "        |                             ....                      \n",
      "        |                         ....                          \n",
      "        |                      ...                              \n",
      "        |                  ....                                 \n",
      "        |               ...                                     \n",
      "      5 |-------------..----------------------------------------\n",
      "        |          ...                                          \n",
      "        |        ..                                             \n",
      "        |      ..                                               \n",
      "        |     /                                                 \n",
      "        |   ..                                                  \n",
      "        |  /                                                    \n",
      "        | .                                                     \n",
      "        |                                                       \n",
      "        |                                                       \n",
      "      0 |_______________________________________________________\n",
      "         0                          50                         100\n"
     ]
    },
    {
     "data": {
      "text/plain": [
       "<sympy.plotting.plot.Plot at 0x7fb732425290>"
      ]
     },
     "execution_count": 26,
     "metadata": {},
     "output_type": "execute_result"
    }
   ],
   "source": [
    "f4 = sqrt(x)\n",
    "plot(f4, (x, 0, 100))"
   ]
  },
  {
   "cell_type": "markdown",
   "metadata": {},
   "source": [
    "не нечетная, не четная"
   ]
  },
  {
   "cell_type": "code",
   "execution_count": 27,
   "metadata": {},
   "outputs": [
    {
     "name": "stdout",
     "output_type": "stream",
     "text": [
      "     13 |                                                    ...\n",
      "        |                                               .....   \n",
      "        |                                          .....        \n",
      "        |                                     .....             \n",
      "        |                                 ....                  \n",
      "        |                             ....                      \n",
      "        |                         ....                          \n",
      "        |                      ...                              \n",
      "        |                  ....                                 \n",
      "        |               ...                                     \n",
      "      8 |-------------..----------------------------------------\n",
      "        |          ...                                          \n",
      "        |        ..                                             \n",
      "        |      ..                                               \n",
      "        |     /                                                 \n",
      "        |   ..                                                  \n",
      "        |  /                                                    \n",
      "        | .                                                     \n",
      "        |                                                       \n",
      "        |                                                       \n",
      "      3 |_______________________________________________________\n",
      "         0                          50                         100\n"
     ]
    },
    {
     "data": {
      "text/plain": [
       "<sympy.plotting.plot.Plot at 0x7fb732425b50>"
      ]
     },
     "execution_count": 27,
     "metadata": {},
     "output_type": "execute_result"
    }
   ],
   "source": [
    "f4 = sqrt(x) +3\n",
    "plot(f4, (x, 0, 100))"
   ]
  },
  {
   "cell_type": "code",
   "execution_count": null,
   "metadata": {},
   "outputs": [],
   "source": []
  }
 ],
 "metadata": {
  "colab": {
   "collapsed_sections": [],
   "name": "practice_les-5.ipynb",
   "provenance": []
  },
  "kernelspec": {
   "display_name": "venv",
   "language": "python",
   "name": "venv"
  },
  "language_info": {
   "codemirror_mode": {
    "name": "ipython",
    "version": 3
   },
   "file_extension": ".py",
   "mimetype": "text/x-python",
   "name": "python",
   "nbconvert_exporter": "python",
   "pygments_lexer": "ipython3",
   "version": "3.12.1"
  }
 },
 "nbformat": 4,
 "nbformat_minor": 4
}
