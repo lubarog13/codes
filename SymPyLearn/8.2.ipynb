{
 "cells": [
  {
   "cell_type": "code",
   "execution_count": 1,
   "id": "6676bde0-0992-4eeb-940e-659e95191aaf",
   "metadata": {},
   "outputs": [],
   "source": [
    "from sympy import *"
   ]
  },
  {
   "cell_type": "code",
   "execution_count": 5,
   "id": "f62bc8df-2cfc-41d6-a628-be2ab3008b7a",
   "metadata": {},
   "outputs": [
    {
     "data": {
      "text/latex": [
       "$\\displaystyle \\left[\\begin{matrix}19\\\\5\\end{matrix}\\right]$"
      ],
      "text/plain": [
       "Matrix([\n",
       "[19],\n",
       "[ 5]])"
      ]
     },
     "execution_count": 5,
     "metadata": {},
     "output_type": "execute_result"
    }
   ],
   "source": [
    "x = Matrix([[2,5],[7,-3]])\n",
    "a=Matrix([2,3])\n",
    "x*a"
   ]
  },
  {
   "cell_type": "code",
   "execution_count": 6,
   "id": "db27eb40-be66-44e4-b394-d349e07296dc",
   "metadata": {},
   "outputs": [
    {
     "data": {
      "text/latex": [
       "$\\displaystyle \\left[\\begin{matrix}0\\\\18\\end{matrix}\\right]$"
      ],
      "text/plain": [
       "Matrix([\n",
       "[ 0],\n",
       "[18]])"
      ]
     },
     "execution_count": 6,
     "metadata": {},
     "output_type": "execute_result"
    }
   ],
   "source": [
    "x = Matrix([[-3,1],[3,5]])\n",
    "a=Matrix([1,3])\n",
    "x*a"
   ]
  },
  {
   "cell_type": "code",
   "execution_count": 8,
   "id": "d1a3afcc-1bad-4b1f-99d1-fbb88bba9e82",
   "metadata": {},
   "outputs": [
    {
     "data": {
      "text/latex": [
       "$\\displaystyle \\left[\\begin{matrix}14\\\\10\\end{matrix}\\right]$"
      ],
      "text/plain": [
       "Matrix([\n",
       "[14],\n",
       "[10]])"
      ]
     },
     "execution_count": 8,
     "metadata": {},
     "output_type": "execute_result"
    }
   ],
   "source": [
    "x = Matrix([[2,3],[3,-1]])\n",
    "a=Matrix([4,2])\n",
    "x*a"
   ]
  },
  {
   "cell_type": "code",
   "execution_count": 9,
   "id": "80996a34-ea92-44fe-8d0e-4d2e82eb78ae",
   "metadata": {},
   "outputs": [
    {
     "data": {
      "text/latex": [
       "$\\displaystyle \\left[\\begin{matrix}15\\\\11\\\\31\\end{matrix}\\right]$"
      ],
      "text/plain": [
       "Matrix([\n",
       "[15],\n",
       "[11],\n",
       "[31]])"
      ]
     },
     "execution_count": 9,
     "metadata": {},
     "output_type": "execute_result"
    }
   ],
   "source": [
    "x = Matrix([[1,1,2],[2,-1,2],[4,1,4]])\n",
    "a=Matrix([2,3,5])\n",
    "x*a"
   ]
  },
  {
   "cell_type": "code",
   "execution_count": null,
   "id": "1bf70dd8-f381-49df-9888-a0bb51a40a61",
   "metadata": {},
   "outputs": [],
   "source": []
  }
 ],
 "metadata": {
  "kernelspec": {
   "display_name": "Python 3 (ipykernel)",
   "language": "python",
   "name": "python3"
  },
  "language_info": {
   "codemirror_mode": {
    "name": "ipython",
    "version": 3
   },
   "file_extension": ".py",
   "mimetype": "text/x-python",
   "name": "python",
   "nbconvert_exporter": "python",
   "pygments_lexer": "ipython3",
   "version": "3.12.2"
  }
 },
 "nbformat": 4,
 "nbformat_minor": 5
}
