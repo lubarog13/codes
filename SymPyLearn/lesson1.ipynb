{
 "cells": [
  {
   "cell_type": "code",
   "execution_count": 15,
   "id": "68eb47df-7a98-48ad-ab9c-c125f891acfc",
   "metadata": {},
   "outputs": [
    {
     "data": {
      "text/latex": [
       "$\\displaystyle x + 1$"
      ],
      "text/plain": [
       "x + 1"
      ]
     },
     "execution_count": 15,
     "metadata": {},
     "output_type": "execute_result"
    }
   ],
   "source": [
    "from sympy import *\n",
    "from sympy.plotting import plot\n",
    "from sympy.solvers.inequalities import solve_univariate_inequality\n",
    "x=Symbol('x')\n",
    "f=x+1\n",
    "f"
   ]
  },
  {
   "cell_type": "code",
   "execution_count": 2,
   "id": "bc1c403a-1459-4bf6-b360-f65e94c1ad85",
   "metadata": {},
   "outputs": [
    {
     "name": "stdout",
     "output_type": "stream",
     "text": [
      "     10 |                                                     ..\n",
      "        |                                                  ...  \n",
      "        |                                                ..     \n",
      "        |                                             ...       \n",
      "        |                                          ...          \n",
      "        |                                        ..             \n",
      "        |                                     ...               \n",
      "        |                                  ...                  \n",
      "        |                                ..                     \n",
      "        |                             ...                       \n",
      "      0 |--------------------------...--------------------------\n",
      "        |                       ...                             \n",
      "        |                     ..                                \n",
      "        |                  ...                                  \n",
      "        |               ...                                     \n",
      "        |             ..                                        \n",
      "        |          ...                                          \n",
      "        |       ...                                             \n",
      "        |     ..                                                \n",
      "        |  ...                                                  \n",
      "    -10 |_______________________________________________________\n",
      "         -10                        0                          10\n"
     ]
    },
    {
     "data": {
      "text/plain": [
       "<sympy.plotting.plot.Plot at 0x7f2a08451fd0>"
      ]
     },
     "execution_count": 2,
     "metadata": {},
     "output_type": "execute_result"
    }
   ],
   "source": [
    "plot(x)"
   ]
  },
  {
   "cell_type": "code",
   "execution_count": 3,
   "id": "ad832fee-e690-4dab-9be6-e0c6d0e0467c",
   "metadata": {},
   "outputs": [],
   "source": [
    "init_printing(use_unicode=False, wrap_line=False, no_global=True)"
   ]
  },
  {
   "cell_type": "code",
   "execution_count": 6,
   "id": "6680a345-11c1-4fe0-8296-61d64cc8cadc",
   "metadata": {},
   "outputs": [],
   "source": [
    "f = x ** 2"
   ]
  },
  {
   "cell_type": "code",
   "execution_count": 7,
   "id": "b398f66d-13d6-44b5-aa40-884b2d2934f4",
   "metadata": {},
   "outputs": [
    {
     "name": "stdout",
     "output_type": "stream",
     "text": [
      "    100 |\\                                                     /\n",
      "        | .                                                   . \n",
      "        |                                                       \n",
      "        |  .                                                 .  \n",
      "        |   \\                                               /   \n",
      "        |    .                                             .    \n",
      "        |                                                       \n",
      "        |     .                                           .     \n",
      "        |      \\                                         /      \n",
      "        |       \\                                       /       \n",
      "     50 |--------\\-------------------------------------/--------\n",
      "        |         \\                                   /         \n",
      "        |          \\                                 /          \n",
      "        |           \\                               /           \n",
      "        |            \\                             /            \n",
      "        |             ..                         ..             \n",
      "        |               \\                       /               \n",
      "        |                ..                   ..                \n",
      "        |                  ..               ..                  \n",
      "        |                    ...         ...                    \n",
      "      0 |_______________________________________________________\n",
      "         -10                        0                          10\n"
     ]
    },
    {
     "data": {
      "text/plain": [
       "<sympy.plotting.plot.Plot at 0x7f2a001ea790>"
      ]
     },
     "execution_count": 7,
     "metadata": {},
     "output_type": "execute_result"
    }
   ],
   "source": [
    "plot(f)"
   ]
  },
  {
   "cell_type": "code",
   "execution_count": 8,
   "id": "14c5356f-d575-49f5-9275-3eb4d50dd384",
   "metadata": {},
   "outputs": [
    {
     "data": {
      "text/latex": [
       "$\\displaystyle 10000$"
      ],
      "text/plain": [
       "10000"
      ]
     },
     "execution_count": 8,
     "metadata": {},
     "output_type": "execute_result"
    }
   ],
   "source": [
    "f.subs(x, 100)"
   ]
  },
  {
   "cell_type": "code",
   "execution_count": 9,
   "id": "81a46c36-2832-45ea-acb9-476e22692127",
   "metadata": {},
   "outputs": [],
   "source": [
    "f2 = 2*x**2 + 10*x - 12"
   ]
  },
  {
   "cell_type": "code",
   "execution_count": 10,
   "id": "e796ada2-7c20-429c-8370-4283444b4f3b",
   "metadata": {},
   "outputs": [
    {
     "name": "stdout",
     "output_type": "stream",
     "text": [
      "    290 |                                                      /\n",
      "        |                                                     / \n",
      "        |                                                    .  \n",
      "        |                                                       \n",
      "        |                                                   .   \n",
      "        |                                                  /    \n",
      "        |                                                 /     \n",
      "        |                                                /      \n",
      "        |                                               /       \n",
      "        |                                             ..        \n",
      "    135 |--------------------------------------------/----------\n",
      "        |                                           /           \n",
      "        |                                          /            \n",
      "        |\\                                       ..             \n",
      "        | ..                                    /               \n",
      "        |   \\                                 ..                \n",
      "        |    ..                             ..                  \n",
      "        |      ..                         ..                    \n",
      "        |        ...                    ..                      \n",
      "        |           ...             ....                        \n",
      "    -20 |_______________________________________________________\n",
      "         -10                        0                          10\n"
     ]
    },
    {
     "data": {
      "text/plain": [
       "<sympy.plotting.plot.Plot at 0x7f2a00031990>"
      ]
     },
     "execution_count": 10,
     "metadata": {},
     "output_type": "execute_result"
    }
   ],
   "source": [
    "plot(f2)"
   ]
  },
  {
   "cell_type": "code",
   "execution_count": 12,
   "id": "f156c2f6-9dd0-442d-9c1f-8c41f51b22b0",
   "metadata": {},
   "outputs": [],
   "source": [
    "f3 = sqrt(x)"
   ]
  },
  {
   "cell_type": "code",
   "execution_count": 14,
   "id": "7b21b5ad-0bcc-4c6f-b1ad-2ac074b97c8f",
   "metadata": {},
   "outputs": [
    {
     "name": "stdout",
     "output_type": "stream",
     "text": [
      "     10 |                                                    ...\n",
      "        |                                               .....   \n",
      "        |                                          .....        \n",
      "        |                                     .....             \n",
      "        |                                 ....                  \n",
      "        |                             ....                      \n",
      "        |                         ....                          \n",
      "        |                      ...                              \n",
      "        |                  ....                                 \n",
      "        |               ...                                     \n",
      "      5 |-------------..----------------------------------------\n",
      "        |          ...                                          \n",
      "        |        ..                                             \n",
      "        |      ..                                               \n",
      "        |     /                                                 \n",
      "        |   ..                                                  \n",
      "        |  /                                                    \n",
      "        | .                                                     \n",
      "        |                                                       \n",
      "        |                                                       \n",
      "      0 |_______________________________________________________\n",
      "         0                          50                         100\n"
     ]
    },
    {
     "data": {
      "text/plain": [
       "<sympy.plotting.plot.Plot at 0x7f29fbb56350>"
      ]
     },
     "execution_count": 14,
     "metadata": {},
     "output_type": "execute_result"
    }
   ],
   "source": [
    "plot(f3, (x, 0, 100))"
   ]
  },
  {
   "cell_type": "code",
   "execution_count": 16,
   "id": "63c963ff-c0e9-4c4f-a74e-bb5bb839b452",
   "metadata": {},
   "outputs": [
    {
     "data": {
      "text/latex": [
       "$\\displaystyle \\left[ -6, \\  1\\right]$"
      ],
      "text/plain": [
       "[-6, 1]"
      ]
     },
     "execution_count": 16,
     "metadata": {},
     "output_type": "execute_result"
    }
   ],
   "source": [
    "solve(f2)"
   ]
  },
  {
   "cell_type": "code",
   "execution_count": 18,
   "id": "522ccf2f-92f2-438b-9b1e-32be335b9506",
   "metadata": {},
   "outputs": [
    {
     "data": {
      "text/latex": [
       "$\\displaystyle \\left(-\\infty < x \\wedge x < -6\\right) \\vee \\left(1 < x \\wedge x < \\infty\\right)$"
      ],
      "text/plain": [
       "Or(And(-oo < x, x < -6), And(1 < x, x < oo))"
      ]
     },
     "execution_count": 18,
     "metadata": {},
     "output_type": "execute_result"
    }
   ],
   "source": [
    "solve_univariate_inequality(f2>0, x)"
   ]
  },
  {
   "cell_type": "code",
   "execution_count": null,
   "id": "1784f869-2392-4fd7-83dd-a192bdabe6b8",
   "metadata": {},
   "outputs": [],
   "source": []
  }
 ],
 "metadata": {
  "kernelspec": {
   "display_name": "Python 3 (ipykernel)",
   "language": "python",
   "name": "python3"
  },
  "language_info": {
   "codemirror_mode": {
    "name": "ipython",
    "version": 3
   },
   "file_extension": ".py",
   "mimetype": "text/x-python",
   "name": "python",
   "nbconvert_exporter": "python",
   "pygments_lexer": "ipython3",
   "version": "3.11.6"
  }
 },
 "nbformat": 4,
 "nbformat_minor": 5
}
