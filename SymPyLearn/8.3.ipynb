{
 "cells": [
  {
   "cell_type": "code",
   "execution_count": 1,
   "id": "b91b133e-5026-4c0a-a0b6-2d00e9ff0cd2",
   "metadata": {},
   "outputs": [],
   "source": [
    "from sympy import *\n",
    "import numpy\n",
    "x,y,z=symbols('x, y, z')"
   ]
  },
  {
   "cell_type": "code",
   "execution_count": 2,
   "id": "f075d4b2-ff7b-46b8-9441-6c286bf69d32",
   "metadata": {},
   "outputs": [
    {
     "data": {
      "text/latex": [
       "$\\displaystyle \\left[\\begin{matrix}-1 & 7 & -34\\\\8 & 8 & -48\\end{matrix}\\right]$"
      ],
      "text/plain": [
       "Matrix([\n",
       "[-1, 7, -34],\n",
       "[ 8, 8, -48]])"
      ]
     },
     "execution_count": 2,
     "metadata": {},
     "output_type": "execute_result"
    }
   ],
   "source": [
    "X1 = Matrix([[-1,7,-34],[8,8,-48]])\n",
    "X1"
   ]
  },
  {
   "cell_type": "code",
   "execution_count": 3,
   "id": "f97b367b-48f0-46db-9897-ee27dc2f9133",
   "metadata": {},
   "outputs": [
    {
     "data": {
      "text/latex": [
       "$\\displaystyle \\left\\{\\left( -1, \\  -5\\right)\\right\\}$"
      ],
      "text/plain": [
       "{(-1, -5)}"
      ]
     },
     "execution_count": 3,
     "metadata": {},
     "output_type": "execute_result"
    }
   ],
   "source": [
    "linsolve(X1,[x,y])"
   ]
  },
  {
   "cell_type": "code",
   "execution_count": 4,
   "id": "469b76b0-6c3f-43eb-b5ad-165c40482e53",
   "metadata": {},
   "outputs": [
    {
     "data": {
      "text/latex": [
       "$\\displaystyle \\left\\{\\left( -1, \\  0\\right)\\right\\}$"
      ],
      "text/plain": [
       "{(-1, 0)}"
      ]
     },
     "execution_count": 4,
     "metadata": {},
     "output_type": "execute_result"
    }
   ],
   "source": [
    "X2 = Matrix([[4,-7,-4],[3,-4,-3]])\n",
    "linsolve(X2,[x,y])"
   ]
  },
  {
   "cell_type": "code",
   "execution_count": 5,
   "id": "f2b6460e-1bdb-4b9d-a46c-002d79959210",
   "metadata": {},
   "outputs": [
    {
     "data": {
      "text/latex": [
       "$\\displaystyle \\left\\{\\left( 9, \\  2\\right)\\right\\}$"
      ],
      "text/plain": [
       "{(9, 2)}"
      ]
     },
     "execution_count": 5,
     "metadata": {},
     "output_type": "execute_result"
    }
   ],
   "source": [
    "X3 = Matrix([[8,-4,64],[-3,3,-21]])\n",
    "linsolve(X3,[x,y])"
   ]
  },
  {
   "cell_type": "code",
   "execution_count": 6,
   "id": "44f45835-e2fa-4945-b4a4-5f6d5c9848b8",
   "metadata": {},
   "outputs": [
    {
     "data": {
      "text/latex": [
       "$\\displaystyle \\left\\{\\left( -2, \\  -6, \\  -1\\right)\\right\\}$"
      ],
      "text/plain": [
       "{(-2, -6, -1)}"
      ]
     },
     "execution_count": 6,
     "metadata": {},
     "output_type": "execute_result"
    }
   ],
   "source": [
    "X4 = Matrix([[5,7,-5,-47],[0,-2,2,10],[-4,-8,-7,63]])\n",
    "linsolve(X4,[x,y,z])"
   ]
  },
  {
   "cell_type": "code",
   "execution_count": 7,
   "id": "cfb60766-2a06-4e40-b5e8-864e1a2d97ba",
   "metadata": {},
   "outputs": [
    {
     "data": {
      "text/latex": [
       "$\\displaystyle \\left[\\begin{matrix}-34\\\\-48\\end{matrix}\\right]$"
      ],
      "text/plain": [
       "Matrix([\n",
       "[-34],\n",
       "[-48]])"
      ]
     },
     "execution_count": 7,
     "metadata": {},
     "output_type": "execute_result"
    }
   ],
   "source": [
    "x1 = Matrix([[-1,7],[8,8]])\n",
    "a1=Matrix([-1,-5])\n",
    "x1*a1"
   ]
  },
  {
   "cell_type": "code",
   "execution_count": 8,
   "id": "f6ef6eb4-1b4a-4c92-9302-4ddbd17281dd",
   "metadata": {},
   "outputs": [
    {
     "data": {
      "text/latex": [
       "$\\displaystyle \\left[\\begin{matrix}-4\\\\-3\\end{matrix}\\right]$"
      ],
      "text/plain": [
       "Matrix([\n",
       "[-4],\n",
       "[-3]])"
      ]
     },
     "execution_count": 8,
     "metadata": {},
     "output_type": "execute_result"
    }
   ],
   "source": [
    "x2 = Matrix([[4,-7],[3,-4]])\n",
    "a2=Matrix([-1,0])\n",
    "x2*a2"
   ]
  },
  {
   "cell_type": "code",
   "execution_count": 9,
   "id": "03fb1404-f258-4422-9d86-ba3c5f28886c",
   "metadata": {},
   "outputs": [
    {
     "data": {
      "text/latex": [
       "$\\displaystyle \\left[\\begin{matrix}64\\\\-21\\end{matrix}\\right]$"
      ],
      "text/plain": [
       "Matrix([\n",
       "[ 64],\n",
       "[-21]])"
      ]
     },
     "execution_count": 9,
     "metadata": {},
     "output_type": "execute_result"
    }
   ],
   "source": [
    "x3 = Matrix([[8,-4],[-3,3]])\n",
    "a3=Matrix([9,2])\n",
    "x3*a3"
   ]
  },
  {
   "cell_type": "code",
   "execution_count": 10,
   "id": "48e015ba-5d1a-4097-9739-b702c416b950",
   "metadata": {},
   "outputs": [
    {
     "data": {
      "text/latex": [
       "$\\displaystyle \\left[\\begin{matrix}-47\\\\10\\\\63\\end{matrix}\\right]$"
      ],
      "text/plain": [
       "Matrix([\n",
       "[-47],\n",
       "[ 10],\n",
       "[ 63]])"
      ]
     },
     "execution_count": 10,
     "metadata": {},
     "output_type": "execute_result"
    }
   ],
   "source": [
    "x4 = Matrix([[5,7,-5],[0,-2,2],[-4,-8,-7]])\n",
    "a4=Matrix([-2,-6,-1])\n",
    "x4*a4"
   ]
  },
  {
   "cell_type": "code",
   "execution_count": 44,
   "id": "0bd02003-9620-41db-b8f7-95d1496e1539",
   "metadata": {},
   "outputs": [
    {
     "data": {
      "text/latex": [
       "$\\displaystyle 0.166666666666667 \\left(- 2 y + 2 z - 10\\right)^{2} + 0.166666666666667 \\left(- 4 x - 8 y - 7 z - 63\\right)^{2} + 0.166666666666667 \\left(x + y + 2 z + 1\\right)^{2} + 0.166666666666667 \\left(2 x - y + 2 z + 4\\right)^{2} + 0.166666666666667 \\left(4 x + y + 4 z + 2\\right)^{2} + 0.166666666666667 \\left(5 x + 7 y - 5 z + 47\\right)^{2}$"
      ],
      "text/plain": [
       "0.166666666666667*(-2*y + 2*z - 10)**2 + 0.166666666666667*(-4*x - 8*y - 7*z - 63)**2 + 0.166666666666667*(x + y + 2*z + 1)**2 + 0.166666666666667*(2*x - y + 2*z + 4)**2 + 0.166666666666667*(4*x + y + 4*z + 2)**2 + 0.166666666666667*(5*x + 7*y - 5*z + 47)**2"
      ]
     },
     "execution_count": 44,
     "metadata": {},
     "output_type": "execute_result"
    }
   ],
   "source": [
    "MSE = 1/6 * ((5*x + 7*y - 5*z + 47)**2 + \n",
    "             (-2*y + 2*z - 10)**2 + \n",
    "             (-4*x - 8*y - 7*z - 63)**2 + \n",
    "             (x + y + 2*z + 1)**2 + \n",
    "             (2*x - y + 2*z + 4)**2 + \n",
    "             (4*x + y + 4*z + 2)**2)\n",
    "MSE"
   ]
  },
  {
   "cell_type": "code",
   "execution_count": 45,
   "id": "d4b4f07a-8ad7-4013-a76b-8f4ba36bbbef",
   "metadata": {},
   "outputs": [
    {
     "data": {
      "text/latex": [
       "$\\displaystyle 1049.83333333333$"
      ],
      "text/plain": [
       "1049.83333333333"
      ]
     },
     "execution_count": 45,
     "metadata": {},
     "output_type": "execute_result"
    }
   ],
   "source": [
    "MSE.subs({x: 0, y: 0, z: 0})"
   ]
  },
  {
   "cell_type": "code",
   "execution_count": 46,
   "id": "14213479-fc8d-4686-8861-516a081b94a1",
   "metadata": {},
   "outputs": [],
   "source": [
    "MSE1 = diff(MSE, x)\n",
    "MSE2 = diff(MSE, y)\n",
    "MSE3 = diff(MSE, z)"
   ]
  },
  {
   "cell_type": "code",
   "execution_count": 47,
   "id": "70921187-5648-45e5-8a5d-bacd7321841e",
   "metadata": {},
   "outputs": [
    {
     "data": {
      "text/plain": [
       "array([168.000000000000, 284.000000000000, 68.0000000000000], dtype=object)"
      ]
     },
     "execution_count": 47,
     "metadata": {},
     "output_type": "execute_result"
    }
   ],
   "source": [
    "step = 0.01\n",
    "point = numpy.array([0,0,0])\n",
    "grad = numpy.array([MSE1.subs({x:point[0], y:point[1], z:point[2]}),\n",
    "                    MSE2.subs({x:point[0], y:point[1], z:point[2]}),\n",
    "                    MSE3.subs({x:point[0], y:point[1], z:point[2]})])\n",
    "grad"
   ]
  },
  {
   "cell_type": "code",
   "execution_count": 48,
   "id": "dd297458-482b-485a-8baa-6ce2b61984fd",
   "metadata": {},
   "outputs": [
    {
     "data": {
      "text/plain": [
       "array([-1.68000000000000, -2.84000000000000, -0.680000000000000],\n",
       "      dtype=object)"
      ]
     },
     "execution_count": 48,
     "metadata": {},
     "output_type": "execute_result"
    }
   ],
   "source": [
    "next_point = point - step*grad\n",
    "next_point"
   ]
  },
  {
   "cell_type": "code",
   "execution_count": 49,
   "id": "d5cfb726-cd96-4b81-be4f-b53b2dd80681",
   "metadata": {},
   "outputs": [
    {
     "data": {
      "text/latex": [
       "$\\displaystyle 247.497333333333$"
      ],
      "text/plain": [
       "247.497333333333"
      ]
     },
     "execution_count": 49,
     "metadata": {},
     "output_type": "execute_result"
    }
   ],
   "source": [
    "res = MSE.subs({x:next_point[0], y:next_point[1],z:next_point[2]})\n",
    "counter = 1\n",
    "res"
   ]
  },
  {
   "cell_type": "code",
   "execution_count": 50,
   "id": "5517643a-d2b6-4595-aad1-087c783e466e",
   "metadata": {},
   "outputs": [
    {
     "data": {
      "text/plain": [
       "(54.3188045027199,\n",
       " 7,\n",
       " array([-2.23893438867603, -5.49162915212318, -0.412953715575168],\n",
       "       dtype=object))"
      ]
     },
     "execution_count": 50,
     "metadata": {},
     "output_type": "execute_result"
    }
   ],
   "source": [
    "while res > 55:\n",
    "    point = next_point\n",
    "    grad = numpy.array([MSE1.subs({x:point[0], y:point[1], z:point[2]}),\n",
    "                        MSE2.subs({x:point[0], y:point[1], z:point[2]}), \n",
    "                        MSE3.subs({x:point[0], y:point[1], z:point[2]})])\n",
    "    next_point = point - step*grad\n",
    "    res = MSE.subs({x:next_point[0], y:next_point[1],z:next_point[2]})\n",
    "    counter+=1\n",
    "res, counter, next_point"
   ]
  },
  {
   "cell_type": "code",
   "execution_count": null,
   "id": "a3f21fc5-03ff-4771-81cb-76fc415387e4",
   "metadata": {},
   "outputs": [],
   "source": []
  },
  {
   "cell_type": "code",
   "execution_count": null,
   "id": "e5d11ec2-1144-4c58-bcac-90f7c47af56f",
   "metadata": {},
   "outputs": [],
   "source": []
  },
  {
   "cell_type": "code",
   "execution_count": null,
   "id": "bd4c06a1-57fc-4ce5-bc99-248a13267405",
   "metadata": {},
   "outputs": [],
   "source": []
  },
  {
   "cell_type": "code",
   "execution_count": null,
   "id": "c9dcfba1-e45e-4e2d-a49d-88c1b1da9d8c",
   "metadata": {},
   "outputs": [],
   "source": []
  }
 ],
 "metadata": {
  "kernelspec": {
   "display_name": "Python 3 (ipykernel)",
   "language": "python",
   "name": "python3"
  },
  "language_info": {
   "codemirror_mode": {
    "name": "ipython",
    "version": 3
   },
   "file_extension": ".py",
   "mimetype": "text/x-python",
   "name": "python",
   "nbconvert_exporter": "python",
   "pygments_lexer": "ipython3",
   "version": "3.12.2"
  }
 },
 "nbformat": 4,
 "nbformat_minor": 5
}
